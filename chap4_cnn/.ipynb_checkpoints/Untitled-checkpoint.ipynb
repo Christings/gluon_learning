{
 "cells": [
  {
   "cell_type": "markdown",
   "metadata": {},
   "source": [
    "## 五、卷积神经网络（LeNet）\n",
    "### 5.1 LeNet模型\n",
    "    LeNet 分为卷积层块和全连接层块两个部分。\n",
    "    卷积层块里的基本单位是卷积层后接最大池化层：卷积层用来识别图像里的空间模式，例如线条和物体局部，之后的最大池化层则用来降低卷积层对位置的敏感性。\n",
    "    卷积层块由两个这样的基本单位重复堆叠构成。\n",
    "    在卷积层块中，每个卷积层都使用 5×5 的窗口，并在输出上使用 sigmoid 激活函数。\n",
    "    第一个卷积层输出通道数为 6，第二个卷积层输出通道数则增加到 16。\n",
    "    这是因为第二个卷积层比第一个卷积层的输入的高和宽要小，所以增加输出通道使两个卷积层的参数尺寸类似。\n",
    "    卷积层块的两个最大池化层的窗口形状均为 2×2，且步幅为 2。\n",
    "    由于池化窗口与步幅形状相同，池化窗口在输入上每次滑动所覆盖的区域互不重叠。\n",
    "    \n",
    "    卷积层块的输出形状为（批量大小，通道，高，宽）。\n",
    "    当卷积层块的输出传入全连接层块时，全连接层块会将小批量中每个样本变平（flatten）。\n",
    "    也就是说，全连接层的输入形状将变成二维，其中第一维为小批量中的样本，第二维为每个样本变平后的向量表示，且向量长度为通道、高和宽的乘积。\n",
    "    全连接层块含三个全连接层。它们的输出个数分别是 120、84 和 10。其中 10 为输出的类别个数。"
   ]
  },
  {
   "cell_type": "code",
   "execution_count": 2,
   "metadata": {
    "collapsed": true
   },
   "outputs": [],
   "source": [
    "import gluonbook as gb\n",
    "import mxnet as mx\n",
    "from mxnet import autograd,gluon,init,nd\n",
    "from mxnet.gluon import loss as gloss,nn\n",
    "import time\n",
    "\n",
    "net=nn.Sequential()\n",
    "net.add(nn.Conv2D(channels=6,kernel_size=5,activation='sigmoid'),\n",
    "        nn.MaxPool2D(pool_size=2,strides=2),\n",
    "        nn.Conv2D(channels=16,kernel_size=5,activation='sigmoid'),\n",
    "        nn.MaxPool2D(pool_size=2,strides=2),\n",
    "        # Dense 会默认将（批量大小，通道，高，宽）形状的输入转换成批量大小，通道 * 高 * 宽）形状的输入。\n",
    "        nn.Dense(120,activation='sigmoid'),\n",
    "        nn.Dense(84,activation='sigmoid'),\n",
    "        nn.Dense(10))"
   ]
  },
  {
   "cell_type": "code",
   "execution_count": 3,
   "metadata": {},
   "outputs": [
    {
     "name": "stdout",
     "output_type": "stream",
     "text": [
      "conv0 output shape:\t (1, 6, 24, 24)\n",
      "pool0 output shape:\t (1, 6, 12, 12)\n",
      "conv1 output shape:\t (1, 16, 8, 8)\n",
      "pool1 output shape:\t (1, 16, 4, 4)\n",
      "dense0 output shape:\t (1, 120)\n",
      "dense1 output shape:\t (1, 84)\n",
      "dense2 output shape:\t (1, 10)\n"
     ]
    }
   ],
   "source": [
    "X=nd.random.uniform(shape=(1,1,28,28))\n",
    "net.initialize()\n",
    "for layer in net:\n",
    "    X=layer(X)\n",
    "    print(layer.name,'output shape:\\t',X.shape)"
   ]
  },
  {
   "cell_type": "markdown",
   "metadata": {},
   "source": [
    "### 5.2 获取数据和训练"
   ]
  },
  {
   "cell_type": "code",
   "execution_count": 8,
   "metadata": {
    "collapsed": true
   },
   "outputs": [],
   "source": [
    "batch_size=256\n",
    "train_iter,test_iter=gb.load_data_fashion_mnist(batch_size=batch_size)"
   ]
  },
  {
   "cell_type": "code",
   "execution_count": 9,
   "metadata": {},
   "outputs": [
    {
     "data": {
      "text/plain": [
       "cpu(0)"
      ]
     },
     "execution_count": 9,
     "metadata": {},
     "output_type": "execute_result"
    }
   ],
   "source": [
    "# 测试机器是够可以使用gpu\n",
    "\n",
    "def try_gpu4():\n",
    "    try:\n",
    "        ctx=mx.gpu()\n",
    "        _ =nd.zeros((1,),ctx=ctx)\n",
    "    except mx.base.MXNetError:\n",
    "        ctx=mx.cpu()\n",
    "    return ctx\n",
    "ctx=try_gpu4()\n",
    "ctx"
   ]
  },
  {
   "cell_type": "code",
   "execution_count": null,
   "metadata": {
    "collapsed": true
   },
   "outputs": [],
   "source": [
    "def evaluate_ch5(net,train_iter,te)"
   ]
  }
 ],
 "metadata": {
  "kernelspec": {
   "display_name": "Python 3",
   "language": "python",
   "name": "python3"
  },
  "language_info": {
   "codemirror_mode": {
    "name": "ipython",
    "version": 3
   },
   "file_extension": ".py",
   "mimetype": "text/x-python",
   "name": "python",
   "nbconvert_exporter": "python",
   "pygments_lexer": "ipython3",
   "version": "3.6.2"
  }
 },
 "nbformat": 4,
 "nbformat_minor": 2
}
