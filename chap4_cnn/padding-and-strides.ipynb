{
 "cells": [
  {
   "cell_type": "markdown",
   "metadata": {},
   "source": [
    "## 二、填充和步幅\n",
    "假设输入形状是$ n_h*n_w $，卷积核窗口形状是$ k_h*k_w $,输出形状是$ （n_h-k_h+1）*(n_w-k_w+1) $\n",
    "所以卷积层的输出形状由输入形状和卷积核窗口形状决定。\n",
    "卷积层的两个超参数填充和步幅,它们可以对给定形状的输入和卷积核改变输出形状。\n",
    "### 2.1 填充（padding）\n",
    "填充（padding）是指在输入高和宽的两侧填充元素（通常是 0 元素\n",
    "如果在高的两侧一共填充 $ p_h $ 行，在宽的两侧一共填充 $ p_w $ 列，那么输出形状将会是$ (n_h−k_h+p_h+1)×(n_w−k_w+p_w+1) $ \n",
    "即输出的高和宽分别会增加 $ p_h $ 和 $ p_w $ \n",
    "\n",
    "在很多情况下，我们会设置 $ p_h=k_h−1 $ 和 $ p_w=k_w−1 $ 使得输入和输出具有相同的高和宽。这样会方便在构造网络时推测每个层的输出形状。 \n",
    "\n",
    "假设这里 $ k_h $ 是奇数，我们会在高的两侧分别填充 $ p_h/2 $ 行。如果 $ k_h $ 是偶数，一种可能是在输入的顶端一侧填充 $ ⌈p_h/2⌉ $ 行，而在底端一侧填充 $ ⌊p_h/2⌋ $ 行。在宽的两侧填充同理。\n"
   ]
  },
  {
   "cell_type": "code",
   "execution_count": 4,
   "metadata": {},
   "outputs": [
    {
     "name": "stdout",
     "output_type": "stream",
     "text": [
      "X.shape: (8, 8)\n",
      "X.shape: (1, 1, 8, 8)\n"
     ]
    },
    {
     "data": {
      "text/plain": [
       "(8, 8)"
      ]
     },
     "execution_count": 4,
     "metadata": {},
     "output_type": "execute_result"
    }
   ],
   "source": [
    "from mxnet import nd\n",
    "from mxnet.gluon import nn\n",
    "\n",
    "# 定义一个便利函数来计算卷积层。它初始化卷积层权重，并对输入核输出做相应的v升维和降维\n",
    "def comp_conv2d(conv2d,X):\n",
    "    conv2d.initialize()\n",
    "    # （1，1）代表批量大小和通道数，均为1\n",
    "    print('X.shape:',X.shape)\n",
    "    X=X.reshape((1,1)+X.shape)\n",
    "    print('X.shape:',X.shape)\n",
    "    Y=conv2d(X)\n",
    "    return Y.reshape(Y.shape[2:]) # 排除不关心的前两维：批量和通道\n",
    "\n",
    "# 注意这里是两侧分别填充1行或列，所以在两侧一共填充2行或列\n",
    "conv2d=nn.Conv2D(1,kernel_size=3,padding=1)\n",
    "X=nd.random.uniform(shape=(8,8))\n",
    "comp_conv2d(conv2d,X).shape"
   ]
  },
  {
   "cell_type": "code",
   "execution_count": 6,
   "metadata": {},
   "outputs": [
    {
     "name": "stdout",
     "output_type": "stream",
     "text": [
      "X.shape: (8, 8)\n",
      "X.shape: (1, 1, 8, 8)\n"
     ]
    },
    {
     "data": {
      "text/plain": [
       "(8, 8)"
      ]
     },
     "execution_count": 6,
     "metadata": {},
     "output_type": "execute_result"
    }
   ],
   "source": [
    "# 使用高为 5、宽为 3 的卷积核。在高和宽两侧的填充数分别为 2 和 1。\n",
    "conv2d=nn.Conv2D(1,kernel_size=(5,3),padding=(2,1))\n",
    "comp_conv2d(conv2d,X).shape"
   ]
  },
  {
   "cell_type": "markdown",
   "metadata": {},
   "source": [
    "### 2.2 步幅（stride）\n",
    "二维互相关运算中，卷积窗口从输入数组的最左上方开始，按从左往右、从上往下的顺序，依次在输入数组上滑动。\n",
    "我们将每次滑动的行数和列数称为步幅。\n",
    "\n",
    "一般来说，当高上步幅为 $ s_h $，宽上步幅为 $ s_w $ 时，输出形状为\n",
    "$ ⌊(n_h−k_h+p_h+s_h)/s_h⌋×⌊(n_w−k_w+p_w+s_w)/s_w⌋ $.\n",
    "\n",
    "如果我们设置 $ p_h=k_h−1 $ 和 $ p_w=k_w−1 $，那么输出形状将简化为 $ ⌊(n_h+s_h−1)/s_h⌋×⌊(n_w+s_w−1)/s_w⌋ $\n",
    "更进一步，如果输入的高和宽能分别被高和宽上的步幅整除，那么输出形状将是 $ (n_h/s_h)×(n_w/s_w) $\n",
    "\n"
   ]
  },
  {
   "cell_type": "code",
   "execution_count": 8,
   "metadata": {},
   "outputs": [
    {
     "name": "stdout",
     "output_type": "stream",
     "text": [
      "X.shape: (8, 8)\n",
      "X.shape: (1, 1, 8, 8)\n"
     ]
    },
    {
     "data": {
      "text/plain": [
       "(4, 4)"
      ]
     },
     "execution_count": 8,
     "metadata": {},
     "output_type": "execute_result"
    }
   ],
   "source": [
    "conv2d=nn.Conv2D(1,kernel_size=3,padding=1,strides=2)\n",
    "comp_conv2d(conv2d,X).shape"
   ]
  },
  {
   "cell_type": "code",
   "execution_count": 9,
   "metadata": {},
   "outputs": [
    {
     "name": "stdout",
     "output_type": "stream",
     "text": [
      "X.shape: (8, 8)\n",
      "X.shape: (1, 1, 8, 8)\n"
     ]
    },
    {
     "data": {
      "text/plain": [
       "(2, 2)"
      ]
     },
     "execution_count": 9,
     "metadata": {},
     "output_type": "execute_result"
    }
   ],
   "source": [
    "conv2d=nn.Conv2D(1,kernel_size=(3,5),padding=(0,1),strides=(3,4))\n",
    "comp_conv2d(conv2d,X).shape"
   ]
  },
  {
   "cell_type": "code",
   "execution_count": null,
   "metadata": {
    "collapsed": true
   },
   "outputs": [],
   "source": []
  }
 ],
 "metadata": {
  "kernelspec": {
   "display_name": "Python 3",
   "language": "python",
   "name": "python3"
  },
  "language_info": {
   "codemirror_mode": {
    "name": "ipython",
    "version": 3
   },
   "file_extension": ".py",
   "mimetype": "text/x-python",
   "name": "python",
   "nbconvert_exporter": "python",
   "pygments_lexer": "ipython3",
   "version": "3.6.2"
  }
 },
 "nbformat": 4,
 "nbformat_minor": 2
}
