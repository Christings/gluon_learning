{
 "cells": [
  {
   "cell_type": "markdown",
   "metadata": {},
   "source": [
    "## 三、多输入通道和多输出通道\n",
    "假设彩色图像的高和宽分别是 h 和 w（像素），那么它在内存中可以表示为一个 3×h×w 的多维数组。我们将大小为 3 的这一维称为通道（channel）维。\n",
    "### 3.1 多输入通道\n",
    "当输入数据含多个通道时，我们需要构造一个输入通道数与输入数据的通道数相同的卷积核，从而能够与含多通道的输入数据做互相关运算。\n",
    "\n",
    "假设输入数据的通道数为 $ c_i $，那么卷积核的输入通道数同样为 $ c_i $。设卷积核窗口形状为 $ k_h×k_w $。\n",
    "\n",
    "当 $ c_i $=1 时，我们知道卷积核只包含一个形状为 $ k_h×k_w $ 的二维数组。\n",
    "\n",
    "当 $ c_i $>1 时，我们将会为每个输入通道各分配一个形状为 $ k_h×k_w $ 的核数组。\n",
    "\n",
    "把这 ci 个数组在输入通道维上连结，即得到一个形状为 $ c_i× k_h×k_w $ 的卷积核。\n",
    "\n",
    "由于输入和卷积核各有 $ c_i $ 个通道，我们可以在各个通道上对输入的二维数组和卷积核的二维核数组做互相关运算，再将这 $ c_i $ 个互相关运算的二维输出按通道相加，得到一个二维数组。这就是含多个通道的输入数据与多输入通道的卷积核做二维相关运算的输出。"
   ]
  },
  {
   "cell_type": "code",
   "execution_count": 27,
   "metadata": {
    "collapsed": true
   },
   "outputs": [],
   "source": [
    "import gluonbook as gb\n",
    "from mxnet import nd\n",
    "\n",
    "def corr2d_multi_in(X,K):\n",
    "    # 首先沿着 X 和 K 的第 0 维（通道维）遍历。然后使用 * 将结果列表变成 add_n 函数的位\n",
    "    # 置参数（positional argument）来进行相加。\n",
    "    for x,k in zip(X,K):\n",
    "        print([gb.corr2d(x,k)])\n",
    "    return nd.add_n(*[gb.corr2d(x,k) for x,k in zip(X,K)])"
   ]
  },
  {
   "cell_type": "code",
   "execution_count": 28,
   "metadata": {},
   "outputs": [
    {
     "name": "stdout",
     "output_type": "stream",
     "text": [
      "[\n",
      "[[ 19.  25.]\n",
      " [ 37.  43.]]\n",
      "<NDArray 2x2 @cpu(0)>]\n",
      "[\n",
      "[[ 37.  47.]\n",
      " [ 67.  77.]]\n",
      "<NDArray 2x2 @cpu(0)>]\n"
     ]
    },
    {
     "data": {
      "text/plain": [
       "\n",
       "[[  56.   72.]\n",
       " [ 104.  120.]]\n",
       "<NDArray 2x2 @cpu(0)>"
      ]
     },
     "execution_count": 28,
     "metadata": {},
     "output_type": "execute_result"
    }
   ],
   "source": [
    "X = nd.array([[[0, 1, 2], [3, 4, 5], [6, 7, 8]],\n",
    "              [[1, 2, 3], [4, 5, 6], [7, 8, 9]]])\n",
    "K = nd.array([[[0, 1], [2, 3]], [[1, 2], [3, 4]]])\n",
    "\n",
    "corr2d_multi_in(X, K)"
   ]
  },
  {
   "cell_type": "markdown",
   "metadata": {},
   "source": [
    "### 3.2 多输出通道\n",
    "当输入通道有多个时，由于我们对各个通道的结果做了累加，所以不论输入通道数是多少，输出通道数总是为 1。\n",
    "\n",
    "设卷积核输入通道数和输出通道数分别为 $ c_i $ 和 $ c_o $，高和宽分别为 $ k_h $ 和 $ k_w $。\n",
    "\n",
    "如果我们希望得到含多个通道的输出，我们可以为每个输出通道分别创建形状为 $ c_i×k_h×k_w $ 的核数组。\n",
    "\n",
    "将它们在输出通道维上连结，卷积核的形状即 $ c_o×c_i×k_h×k_w $。\n",
    "\n",
    "在互相关运算时，每个输出通道上的结果由卷积核在相同输出通道上的核数组与整个输入数组计算而来。"
   ]
  },
  {
   "cell_type": "code",
   "execution_count": 29,
   "metadata": {
    "collapsed": true
   },
   "outputs": [],
   "source": [
    "def corr2d_multi_in_out(X,K):\n",
    "    # 对 K 的第 0 维遍历，每次同输入 X 做互相关计算。所有结果使用 stack 函数合并在一起。\n",
    "    return nd.stack(*[corr2d_multi_in(X,k) for k in K])"
   ]
  },
  {
   "cell_type": "code",
   "execution_count": 30,
   "metadata": {},
   "outputs": [
    {
     "data": {
      "text/plain": [
       "(3, 2, 2, 2)"
      ]
     },
     "execution_count": 30,
     "metadata": {},
     "output_type": "execute_result"
    }
   ],
   "source": [
    "K=nd.stack(K,K+1,K+2)\n",
    "K.shape"
   ]
  },
  {
   "cell_type": "code",
   "execution_count": 31,
   "metadata": {},
   "outputs": [
    {
     "data": {
      "text/plain": [
       "\n",
       "[[[[ 0.  1.]\n",
       "   [ 2.  3.]]\n",
       "\n",
       "  [[ 1.  2.]\n",
       "   [ 3.  4.]]]\n",
       "\n",
       "\n",
       " [[[ 1.  2.]\n",
       "   [ 3.  4.]]\n",
       "\n",
       "  [[ 2.  3.]\n",
       "   [ 4.  5.]]]\n",
       "\n",
       "\n",
       " [[[ 2.  3.]\n",
       "   [ 4.  5.]]\n",
       "\n",
       "  [[ 3.  4.]\n",
       "   [ 5.  6.]]]]\n",
       "<NDArray 3x2x2x2 @cpu(0)>"
      ]
     },
     "execution_count": 31,
     "metadata": {},
     "output_type": "execute_result"
    }
   ],
   "source": [
    "K"
   ]
  },
  {
   "cell_type": "code",
   "execution_count": 32,
   "metadata": {},
   "outputs": [
    {
     "name": "stdout",
     "output_type": "stream",
     "text": [
      "[\n",
      "[[ 19.  25.]\n",
      " [ 37.  43.]]\n",
      "<NDArray 2x2 @cpu(0)>]\n",
      "[\n",
      "[[ 37.  47.]\n",
      " [ 67.  77.]]\n",
      "<NDArray 2x2 @cpu(0)>]\n",
      "[\n",
      "[[ 27.  37.]\n",
      " [ 57.  67.]]\n",
      "<NDArray 2x2 @cpu(0)>]\n",
      "[\n",
      "[[  49.   63.]\n",
      " [  91.  105.]]\n",
      "<NDArray 2x2 @cpu(0)>]\n",
      "[\n",
      "[[ 35.  49.]\n",
      " [ 77.  91.]]\n",
      "<NDArray 2x2 @cpu(0)>]\n",
      "[\n",
      "[[  61.   79.]\n",
      " [ 115.  133.]]\n",
      "<NDArray 2x2 @cpu(0)>]\n"
     ]
    },
    {
     "data": {
      "text/plain": [
       "\n",
       "[[[  56.   72.]\n",
       "  [ 104.  120.]]\n",
       "\n",
       " [[  76.  100.]\n",
       "  [ 148.  172.]]\n",
       "\n",
       " [[  96.  128.]\n",
       "  [ 192.  224.]]]\n",
       "<NDArray 3x2x2 @cpu(0)>"
      ]
     },
     "execution_count": 32,
     "metadata": {},
     "output_type": "execute_result"
    }
   ],
   "source": [
    "corr2d_multi_in_out(X,K)"
   ]
  },
  {
   "cell_type": "markdown",
   "metadata": {},
   "source": [
    "### 3.3 1*1卷积层\n",
    "因为使用了最小窗口，1×1 卷积失去了卷积层可以识别高和宽维度上相邻元素构成的模式的功能。\n",
    "\n",
    "实际上，1×1 卷积的主要计算发生在通道维上。\n",
    "\n",
    "值得注意的是，输入和输出具有相同的高和宽。输出中的每个元素来自输入中在高和宽上相同位置的元素在不同通道之间的按权重累加。\n",
    "\n",
    "假设我们将通道维当做是特征维，将高和宽维度上的元素当成数据样本，那么 1×1 卷积层的作用与全连接层等价。"
   ]
  },
  {
   "cell_type": "code",
   "execution_count": 42,
   "metadata": {},
   "outputs": [],
   "source": [
    "def corr2d_multi_in_out_1x1(X,K):\n",
    "    c_i,h,w=X.shape\n",
    "    c_o=K.shape[0]\n",
    "    print(\"x,k:\",X.shape,K.shape)\n",
    "    X=X.reshape((c_i,h*w))\n",
    "    K=K.reshape((c_o,c_i))\n",
    "    print(\"x,k:\",X.shape,K.shape)\n",
    "    Y=nd.dot(K,X)\n",
    "    print(\"y:\",Y.shape)\n",
    "    return Y.reshape((c_o,h,w))"
   ]
  },
  {
   "cell_type": "code",
   "execution_count": 43,
   "metadata": {},
   "outputs": [
    {
     "name": "stdout",
     "output_type": "stream",
     "text": [
      "x,k: (3, 3, 3) (2, 3, 1, 1)\n",
      "x,k: (3, 9) (2, 3)\n",
      "y: (2, 9)\n",
      "[\n",
      "[[ 0.56538618  0.00934626  0.06686988]\n",
      " [ 0.4289299   0.5770601   0.46392322]\n",
      " [ 0.06617924  0.66934079  0.67244971]]\n",
      "<NDArray 3x3 @cpu(0)>]\n",
      "[\n",
      "[[ 0.27925077  0.14902321  0.16205198]\n",
      " [ 0.31059361  0.01771634  0.1923307 ]\n",
      " [ 0.14346103  0.23507339  0.00635574]]\n",
      "<NDArray 3x3 @cpu(0)>]\n",
      "[\n",
      "[[ 0.0345039   0.38891581  0.24900471]\n",
      " [ 0.86250246  0.10583018  0.31648219]\n",
      " [ 0.2607443   0.42341515  0.10453689]]\n",
      "<NDArray 3x3 @cpu(0)>]\n",
      "[\n",
      "[[ 0.34010711  0.00562223  0.04022546]\n",
      " [ 0.25802207  0.34712955  0.27907225]\n",
      " [ 0.03981001  0.40264082  0.404511  ]]\n",
      "<NDArray 3x3 @cpu(0)>]\n",
      "[\n",
      "[[ 0.80638844  0.43033215  0.46795517]\n",
      " [ 0.89689672  0.05115921  0.5553906 ]\n",
      " [ 0.4142704   0.67881805  0.01835339]]\n",
      "<NDArray 3x3 @cpu(0)>]\n",
      "[\n",
      "[[ 0.0025138   0.02833465  0.01814136]\n",
      " [ 0.06283804  0.00771031  0.02305746]\n",
      " [ 0.01899665  0.03084812  0.00761609]]\n",
      "<NDArray 3x3 @cpu(0)>]\n"
     ]
    },
    {
     "data": {
      "text/plain": [
       "True"
      ]
     },
     "execution_count": 43,
     "metadata": {},
     "output_type": "execute_result"
    }
   ],
   "source": [
    "X=nd.random.uniform(shape=(3,3,3))\n",
    "K=nd.random.uniform(shape=(2,3,1,1))\n",
    "\n",
    "Y1=corr2d_multi_in_out_1x1(X,K)\n",
    "Y2=corr2d_multi_in_out(X,K)\n",
    "\n",
    "(Y1-Y2).norm().asscalar() <1e-6"
   ]
  },
  {
   "cell_type": "markdown",
   "metadata": {},
   "source": [
    "### 3.4 小结\n",
    "使用多通道可以拓展卷积层的模型参数。\n",
    "\n",
    "假设我们将通道维当做是特征维，将高和宽维度上的元素当成数据样本，那么 1×1 卷积层的作用与全连接层等价。\n",
    "\n",
    "1×1 卷积层通常用来调整网络层之间的通道数，并控制模型复杂度。"
   ]
  },
  {
   "cell_type": "code",
   "execution_count": null,
   "metadata": {
    "collapsed": true
   },
   "outputs": [],
   "source": []
  }
 ],
 "metadata": {
  "kernelspec": {
   "display_name": "Python 3",
   "language": "python",
   "name": "python3"
  },
  "language_info": {
   "codemirror_mode": {
    "name": "ipython",
    "version": 3
   },
   "file_extension": ".py",
   "mimetype": "text/x-python",
   "name": "python",
   "nbconvert_exporter": "python",
   "pygments_lexer": "ipython3",
   "version": "3.6.2"
  }
 },
 "nbformat": 4,
 "nbformat_minor": 2
}
