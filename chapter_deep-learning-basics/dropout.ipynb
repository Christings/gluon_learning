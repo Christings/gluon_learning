{
 "cells": [
  {
   "cell_type": "markdown",
   "metadata": {},
   "source": [
    "# 丢弃法\n",
    "\n",
    "除了前两节介绍的权重衰减以外，深度学习模型常常使用丢弃法（dropout）来应对过拟合问题。丢弃法有一些不同的变体。本节中提到的丢弃法特指倒置丢弃法（inverted dropout）。它被广泛使用于深度学习。\n",
    "\n",
    "\n",
    "## 方法和原理\n",
    "\n",
    "为了确保测试模型的确定性，丢弃法的使用只发生在训练模型时，并非测试模型时。当神经网络中的某一层使用丢弃法时，该层的神经元将有一定概率被丢弃掉。设丢弃概率为 $p$。具体来说，该层任一神经元在应用激活函数后，有 $p$ 的概率自乘 0，有 $1-p$ 的概率自除以 $1-p$ 做拉伸。丢弃概率是丢弃法的超参数。\n",
    "\n",
    "我们在 [“多层感知机”](mlp.md) 一节的图 3.3 中描述了一个未使用丢弃法的多层感知机。假设其中隐藏单元 $h_i$（$i=1, \\ldots, 5$）的计算表达式为\n",
    "\n",
    "$$h_i = \\phi(x_1 w_1^{(i)} + x_2 w_2^{(i)} + x_3 w_3^{(i)} + x_4 w_4^{(i)} + b^{(i)}),$$\n",
    "\n",
    "其中 $\\phi$ 是激活函数，$x_1, \\ldots, x_4$ 是输入，$w_1^{(i)}, \\ldots, w_4^{(i)}$ 是权重参数，$b^{(i)}$ 是偏差参数。设丢弃概率为 $p$，并设随机变量 $\\xi_i$ 有 $p$ 概率为 0，有 $1-p$ 概率为 1。那么，使用丢弃法的隐藏单元 $h_i$ 的计算表达式变为\n",
    "\n",
    "$$h_i = \\frac{\\xi_i}{1-p} \\phi(x_1 w_1^{(i)} + x_2 w_2^{(i)} + x_3 w_3^{(i)} + x_4 w_4^{(i)} + b^{(i)}).$$\n",
    "\n",
    "注意到测试模型时不使用丢弃法。由于 $\\mathbb{E} (\\xi_i) = 1-p$，同一神经元在模型训练和测试时的输出值的期望不变。\n",
    "\n",
    "让我们对图 3.3 中的隐藏层使用丢弃法，一种可能的结果如图 3.5 所示。\n",
    "\n",
    "![ 隐藏层使用了丢弃法的多层感知机。](../img/dropout.svg)\n",
    "\n",
    "以图 3.5 为例，每次训练迭代时，隐藏层中每个神经元都有可能被丢弃，即 $h_i$（$i=1, \\ldots, 5$）都有可能为 0。因此，输出层每个单元的计算，例如 $o_1 = \\phi(h_1 w_1' + h_2 w_2' + h_3 w_3' + h_4 w_4' + h_5 w_5'  + b')$，都无法过分依赖 $h_1, \\ldots, h_5$ 中的任一个。这样通常会造成 $o_1$ 表达式中的权重参数 $w_1', \\ldots ,w_5'$ 都接近 0。因此，丢弃法可以起到正则化的作用，并可以用来应对过拟合。\n",
    "\n",
    "## 实现丢弃法\n",
    "\n",
    "根据丢弃法的定义，我们可以很容易地实现它。下面的 `dropout` 函数将以 `drop_prob` 的概率丢弃 NDArray 输入 `X` 中的元素。"
   ]
  },
  {
   "cell_type": "code",
   "execution_count": 1,
   "metadata": {},
   "outputs": [],
   "source": [
    "import sys\n",
    "sys.path.append('..')\n",
    "import gluonbook as gb\n",
    "from mxnet import autograd, gluon, nd\n",
    "from mxnet.gluon import loss as gloss\n",
    "\n",
    "def dropout(X, drop_prob):\n",
    "    assert 0 <= drop_prob <= 1\n",
    "    keep_prob = 1 - drop_prob\n",
    "    # 这种情况下把全部元素都丢弃。\n",
    "    if keep_prob == 0:\n",
    "        return X.zeros_like()\n",
    "    mask = nd.random.uniform(0, 1, X.shape) < keep_prob\n",
    "    return mask * X / keep_prob"
   ]
  },
  {
   "cell_type": "markdown",
   "metadata": {},
   "source": [
    "我们运行几个例子来验证一下 `dropout` 函数。"
   ]
  },
  {
   "cell_type": "code",
   "execution_count": 2,
   "metadata": {},
   "outputs": [
    {
     "data": {
      "text/plain": [
       "\n",
       "[[  0.   1.   2.   3.]\n",
       " [  4.   5.   6.   7.]\n",
       " [  8.   9.  10.  11.]\n",
       " [ 12.  13.  14.  15.]\n",
       " [ 16.  17.  18.  19.]]\n",
       "<NDArray 5x4 @cpu(0)>"
      ]
     },
     "execution_count": 2,
     "metadata": {},
     "output_type": "execute_result"
    }
   ],
   "source": [
    "X = nd.arange(20).reshape((5, 4))\n",
    "dropout(X, 0)"
   ]
  },
  {
   "cell_type": "code",
   "execution_count": 3,
   "metadata": {},
   "outputs": [
    {
     "data": {
      "text/plain": [
       "\n",
       "[[  0.   0.   0.   6.]\n",
       " [  0.  10.   0.   0.]\n",
       " [ 16.  18.  20.   0.]\n",
       " [ 24.  26.   0.   0.]\n",
       " [  0.  34.   0.   0.]]\n",
       "<NDArray 5x4 @cpu(0)>"
      ]
     },
     "execution_count": 3,
     "metadata": {},
     "output_type": "execute_result"
    }
   ],
   "source": [
    "dropout(X, 0.5)"
   ]
  },
  {
   "cell_type": "code",
   "execution_count": 4,
   "metadata": {},
   "outputs": [
    {
     "data": {
      "text/plain": [
       "\n",
       "[[ 0.  0.  0.  0.]\n",
       " [ 0.  0.  0.  0.]\n",
       " [ 0.  0.  0.  0.]\n",
       " [ 0.  0.  0.  0.]\n",
       " [ 0.  0.  0.  0.]]\n",
       "<NDArray 5x4 @cpu(0)>"
      ]
     },
     "execution_count": 4,
     "metadata": {},
     "output_type": "execute_result"
    }
   ],
   "source": [
    "dropout(X, 1)"
   ]
  },
  {
   "cell_type": "markdown",
   "metadata": {},
   "source": [
    "## 定义模型参数\n",
    "\n",
    "实验中，我们依然使用 [“Softmax 回归——从零开始”](softmax-regression-scratch.md) 一节中介绍的 Fashion-MNIST 数据集。我们将定义一个包含两个隐藏层的多层感知机。其中两个隐藏层的输出个数都是 256。"
   ]
  },
  {
   "cell_type": "code",
   "execution_count": 5,
   "metadata": {},
   "outputs": [],
   "source": [
    "num_inputs = 784\n",
    "num_outputs = 10\n",
    "num_hiddens1 = 256\n",
    "num_hiddens2 = 256\n",
    "\n",
    "W1 = nd.random.normal(scale=0.01, shape=(num_inputs, num_hiddens1))\n",
    "b1 = nd.zeros(num_hiddens1)\n",
    "W2 = nd.random.normal(scale=0.01, shape=(num_hiddens1, num_hiddens2))\n",
    "b2 = nd.zeros(num_hiddens2)\n",
    "W3 = nd.random.normal(scale=0.01, shape=(num_hiddens2, num_outputs))\n",
    "b3 = nd.zeros(num_outputs)\n",
    "\n",
    "params = [W1, b1, W2, b2, W3, b3]\n",
    "for param in params:\n",
    "    param.attach_grad()"
   ]
  },
  {
   "cell_type": "markdown",
   "metadata": {},
   "source": [
    "## 定义模型\n",
    "\n",
    "我们的模型就是将全连接层和激活函数 ReLU 串起来，并对激活函数的输出使用丢弃法。我们可以分别设置各个层的丢弃概率。通常，建议把靠近输入层的丢弃概率设的小一点。在这个实验中，我们把第一个隐藏层的丢弃概率设为 0.2，把第二个隐藏层的丢弃概率设为 0.5。我们只需在训练模型时使用丢弃法。"
   ]
  },
  {
   "cell_type": "code",
   "execution_count": 6,
   "metadata": {},
   "outputs": [],
   "source": [
    "drop_prob1 = 0.2\n",
    "drop_prob2 = 0.5\n",
    "\n",
    "def net(X):\n",
    "    X = X.reshape((-1, num_inputs))\n",
    "    H1 = (nd.dot(X, W1) + b1).relu()\n",
    "    # 只在训练模型时使用丢弃法。\n",
    "    if autograd.is_training():\n",
    "        # 在第一层全连接后添加丢弃层。\n",
    "        H1 = dropout(H1, drop_prob1)\n",
    "    H2 = (nd.dot(H1, W2) + b2).relu()\n",
    "    if autograd.is_training():\n",
    "        # 在第二层全连接后添加丢弃层。\n",
    "        H2 = dropout(H2, drop_prob2)\n",
    "    return nd.dot(H2, W3) + b3"
   ]
  },
  {
   "cell_type": "markdown",
   "metadata": {},
   "source": [
    "## 训练和测试模型\n",
    "\n",
    "这部分和之前多层感知机的训练与测试类似。"
   ]
  },
  {
   "cell_type": "code",
   "execution_count": 7,
   "metadata": {},
   "outputs": [
    {
     "name": "stdout",
     "output_type": "stream",
     "text": [
      "epoch 1, loss 1.0981, train acc 0.574, test acc 0.802\n"
     ]
    },
    {
     "name": "stdout",
     "output_type": "stream",
     "text": [
      "epoch 2, loss 0.5771, train acc 0.786, test acc 0.834\n"
     ]
    },
    {
     "name": "stdout",
     "output_type": "stream",
     "text": [
      "epoch 3, loss 0.4873, train acc 0.823, test acc 0.848\n"
     ]
    },
    {
     "name": "stdout",
     "output_type": "stream",
     "text": [
      "epoch 4, loss 0.4454, train acc 0.838, test acc 0.862\n"
     ]
    },
    {
     "name": "stdout",
     "output_type": "stream",
     "text": [
      "epoch 5, loss 0.4176, train acc 0.850, test acc 0.862\n"
     ]
    }
   ],
   "source": [
    "num_epochs = 5\n",
    "lr = 0.5\n",
    "batch_size = 256\n",
    "loss = gloss.SoftmaxCrossEntropyLoss()\n",
    "train_iter, test_iter = gb.load_data_fashion_mnist(batch_size)\n",
    "gb.train_ch3(net, train_iter, test_iter, loss, num_epochs, batch_size, params,\n",
    "             lr)"
   ]
  },
  {
   "cell_type": "markdown",
   "metadata": {},
   "source": [
    "## 小结\n",
    "\n",
    "* 我们可以通过使用丢弃法应对过拟合。\n",
    "* 只需在训练模型时使用丢弃法。\n",
    "\n",
    "## 练习\n",
    "\n",
    "- 尝试不使用丢弃法，看看这个包含两个隐藏层的多层感知机可以得到什么结果。\n",
    "- 如果把本节中的两个丢弃概率超参数对调，会有什么结果？\n",
    "\n",
    "## 扫码直达 [ 讨论区 ](https://discuss.gluon.ai/t/topic/1278)\n",
    "\n",
    "![](../img/qr_dropout.svg)"
   ]
  }
 ],
 "metadata": {
  "language_info": {
   "name": "python"
  }
 },
 "nbformat": 4,
 "nbformat_minor": 2
}