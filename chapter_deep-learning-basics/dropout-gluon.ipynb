{
 "cells": [
  {
   "cell_type": "markdown",
   "metadata": {},
   "source": [
    "# 丢弃法的 Gluon 实现\n",
    "\n",
    "本节中，我们将上一节的实验代码用 Gluon 实现一遍。你会发现代码将精简很多。\n",
    "\n",
    "\n",
    "## 定义模型并添加丢弃层\n",
    "\n",
    "在多层感知机中 Gluon 实现的基础上，我们只需要在全连接层后添加 Dropout 层并指定丢弃概率。在训练模型时，Dropout 层将以指定的丢弃概率随机丢弃上一层的输出元素；在测试模型时，Dropout 层并不发挥作用。"
   ]
  },
  {
   "cell_type": "code",
   "execution_count": 1,
   "metadata": {
    "attributes": {
     "classes": [],
     "id": "",
     "n": "5"
    }
   },
   "outputs": [],
   "source": [
    "import sys\n",
    "sys.path.append('..')\n",
    "import gluonbook as gb\n",
    "from mxnet import autograd, gluon, init, nd\n",
    "from mxnet.gluon import loss as gloss, nn\n",
    "\n",
    "drop_prob1 = 0.2\n",
    "drop_prob2 = 0.5\n",
    "\n",
    "net = nn.Sequential()\n",
    "net.add(nn.Flatten())\n",
    "net.add(nn.Dense(256, activation=\"relu\"))\n",
    "# 在第一个全连接层后添加丢弃层。\n",
    "net.add(nn.Dropout(drop_prob1))\n",
    "net.add(nn.Dense(256, activation=\"relu\"))\n",
    "# 在第二个全连接层后添加丢弃层。\n",
    "net.add(nn.Dropout(drop_prob2))\n",
    "net.add(nn.Dense(10))\n",
    "net.initialize(init.Normal(sigma=0.01))"
   ]
  },
  {
   "cell_type": "markdown",
   "metadata": {},
   "source": [
    "## 训练和测试模型\n",
    "\n",
    "这部分依然和多层感知机中的训练和测试没有多少区别。"
   ]
  },
  {
   "cell_type": "code",
   "execution_count": 2,
   "metadata": {
    "attributes": {
     "classes": [],
     "id": "",
     "n": "6"
    }
   },
   "outputs": [
    {
     "name": "stdout",
     "output_type": "stream",
     "text": [
      "epoch 1, loss 1.1013, train acc 0.571, test acc 0.791\n"
     ]
    },
    {
     "name": "stdout",
     "output_type": "stream",
     "text": [
      "epoch 2, loss 0.6006, train acc 0.779, test acc 0.836\n"
     ]
    },
    {
     "name": "stdout",
     "output_type": "stream",
     "text": [
      "epoch 3, loss 0.5138, train acc 0.812, test acc 0.846\n"
     ]
    },
    {
     "name": "stdout",
     "output_type": "stream",
     "text": [
      "epoch 4, loss 0.4502, train acc 0.835, test acc 0.855\n"
     ]
    },
    {
     "name": "stdout",
     "output_type": "stream",
     "text": [
      "epoch 5, loss 0.4209, train acc 0.846, test acc 0.858\n"
     ]
    }
   ],
   "source": [
    "num_epochs = 5\n",
    "batch_size = 256\n",
    "loss = gloss.SoftmaxCrossEntropyLoss()\n",
    "trainer = gluon.Trainer(net.collect_params(), 'sgd', {'learning_rate': 0.5})\n",
    "train_iter, test_iter = gb.load_data_fashion_mnist(batch_size)\n",
    "gb.train_ch3(net, train_iter, test_iter, loss, num_epochs, batch_size,\n",
    "             None, None, trainer)"
   ]
  },
  {
   "cell_type": "markdown",
   "metadata": {},
   "source": [
    "## 小结\n",
    "\n",
    "* 使用 Gluon，我们可以更方便地构造多层神经网络并使用丢弃法。\n",
    "\n",
    "## 练习\n",
    "\n",
    "* 尝试不同丢弃概率超参数组合，观察并分析结果。\n",
    "\n",
    "## 扫码直达 [ 讨论区 ](https://discuss.gluon.ai/t/topic/1279)\n",
    "\n",
    "![](../img/qr_dropout-gluon.svg)"
   ]
  }
 ],
 "metadata": {
  "language_info": {
   "name": "python"
  }
 },
 "nbformat": 4,
 "nbformat_minor": 2
}