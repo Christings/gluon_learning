{
 "cells": [
  {
   "cell_type": "markdown",
   "metadata": {},
   "source": [
    "# Adadelta\n",
    "\n",
    "我们在 [“RMSProp”](rmsprop.md) 一节中描述了，RMSProp 针对 Adagrad 在迭代后期可能较难找到有用解的问题，对小批量随机梯度按元素平方项做指数加权移动平均而不是累加。另一种应对该问题的优化算法叫做 Adadelta [1]。有意思的是，它没有学习率超参数。\n",
    "\n",
    "\n",
    "## Adadelta 算法\n",
    "\n",
    "Adadelta 算法也像 RMSProp 一样，使用了小批量随机梯度按元素平方的指数加权移动平均变量 $\\boldsymbol{s}$，并将其中每个元素初始化为 0。\n",
    "给定超参数 $\\rho$ 且 $0 \\leq \\rho < 1$，\n",
    "在每次迭代中，RMSProp 首先计算小批量随机梯度 $\\boldsymbol{g}$，然后对该梯度按元素平方项 $\\boldsymbol{g} \\odot \\boldsymbol{g}$ 做指数加权移动平均，记为 $\\boldsymbol{s}$：\n",
    "\n",
    "$$\\boldsymbol{s} \\leftarrow \\rho \\boldsymbol{s} + (1 - \\rho) \\boldsymbol{g} \\odot \\boldsymbol{g}. $$\n",
    "\n",
    "然后，计算当前需要迭代的目标函数自变量的变化量 $\\boldsymbol{g}'$：\n",
    "\n",
    "$$ \\boldsymbol{g}' \\leftarrow \\frac{\\sqrt{\\Delta\\boldsymbol{x} + \\epsilon}}{\\sqrt{\\boldsymbol{s} + \\epsilon}}   \\odot \\boldsymbol{g}, $$\n",
    "\n",
    "\n",
    "其中 $\\epsilon$ 是为了维持数值稳定性而添加的常数，例如 $10^{-5}$。和 Adagrad 与 RMSProp 一样，目标函数自变量中每个元素都分别拥有自己的学习率。上式中 $\\Delta\\boldsymbol{x}$ 初始化为零张量，并记录 $\\boldsymbol{g}'$ 按元素平方的指数加权移动平均：\n",
    "\n",
    "$$\\Delta\\boldsymbol{x} \\leftarrow \\rho \\Delta\\boldsymbol{x} + (1 - \\rho) \\boldsymbol{g}' \\odot \\boldsymbol{g}'. $$\n",
    "\n",
    "同样地，最后的自变量迭代步骤与小批量随机梯度下降类似：\n",
    "\n",
    "$$\\boldsymbol{x} \\leftarrow \\boldsymbol{x} - \\boldsymbol{g}'. $$\n",
    "\n",
    "\n",
    "## Adadelta 的实现\n",
    "\n",
    "Adadelta 的实现很简单。我们只需要把上面的数学公式翻译成代码。"
   ]
  },
  {
   "cell_type": "code",
   "execution_count": 1,
   "metadata": {},
   "outputs": [],
   "source": [
    "def adadelta(params, sqrs, deltas, rho, batch_size):\n",
    "    eps_stable = 1e-5\n",
    "    for param, sqr, delta in zip(params, sqrs, deltas):\n",
    "        g = param.grad / batch_size\n",
    "        sqr[:] = rho * sqr + (1 - rho) * g.square()\n",
    "        cur_delta = ((delta + eps_stable).sqrt()\n",
    "                     / (sqr + eps_stable).sqrt() * g)\n",
    "        delta[:] = rho * delta + (1 - rho) * cur_delta * cur_delta\n",
    "        param[:] -= cur_delta"
   ]
  },
  {
   "cell_type": "markdown",
   "metadata": {},
   "source": [
    "## 实验\n",
    "\n",
    "首先，导入本节中实验所需的包或模块。"
   ]
  },
  {
   "cell_type": "code",
   "execution_count": 2,
   "metadata": {},
   "outputs": [],
   "source": [
    "import sys\n",
    "sys.path.append('..')\n",
    "import gluonbook as gb\n",
    "from mxnet import autograd, nd\n",
    "import numpy as np"
   ]
  },
  {
   "cell_type": "markdown",
   "metadata": {},
   "source": [
    "实验中，我们依然以线性回归为例。设数据集的样本数为 1000，我们使用权重 `w` 为 [2, -3.4]，偏差 `b` 为 4.2 的线性回归模型来生成数据集。该模型的平方损失函数即所需优化的目标函数，模型参数即目标函数自变量。\n",
    "\n",
    "我们把算法中变量 $\\boldsymbol{s}$ 和 $\\Delta\\boldsymbol{x}$ 初始化为和模型参数形状相同的零张量。"
   ]
  },
  {
   "cell_type": "code",
   "execution_count": 3,
   "metadata": {
    "attributes": {
     "classes": [],
     "id": "",
     "n": "1"
    }
   },
   "outputs": [],
   "source": [
    "# 生成数据集。\n",
    "num_inputs = 2\n",
    "num_examples = 1000\n",
    "true_w = [2, -3.4]\n",
    "true_b = 4.2\n",
    "features = nd.random.normal(scale=1, shape=(num_examples, num_inputs))\n",
    "labels = true_w[0] * features[:, 0] + true_w[1] * features[:, 1] + true_b\n",
    "labels += nd.random.normal(scale=0.01, shape=labels.shape)\n",
    "\n",
    "# 初始化模型参数。\n",
    "def init_params():\n",
    "    w = nd.random.normal(scale=0.01, shape=(num_inputs, 1))\n",
    "    b = nd.zeros(shape=(1,))\n",
    "    params = [w, b]\n",
    "    sqrs = []\n",
    "    deltas = []\n",
    "    for param in params:\n",
    "        param.attach_grad()\n",
    "        # 把算法中基于指数加权移动平均的变量初始化为和参数形状相同的零张量。\n",
    "        sqrs.append(param.zeros_like())\n",
    "        deltas.append(param.zeros_like())\n",
    "    return params, sqrs, deltas"
   ]
  },
  {
   "cell_type": "markdown",
   "metadata": {},
   "source": [
    "优化函数 `optimize` 与 [“Adagrad”](adagrad.md) 一节中的类似。"
   ]
  },
  {
   "cell_type": "code",
   "execution_count": 4,
   "metadata": {
    "attributes": {
     "classes": [],
     "id": "",
     "n": "2"
    }
   },
   "outputs": [],
   "source": [
    "net = gb.linreg\n",
    "loss = gb.squared_loss\n",
    "\n",
    "def optimize(batch_size, rho, num_epochs, log_interval):\n",
    "    [w, b], sqrs, deltas = init_params()\n",
    "    ls = [loss(net(features, w, b), labels).mean().asnumpy()]\n",
    "    for epoch in range(1, num_epochs + 1):\n",
    "        for batch_i, (X, y) in enumerate(\n",
    "            gb.data_iter(batch_size, features, labels)):\n",
    "            with autograd.record():\n",
    "                l = loss(net(X, w, b), y)\n",
    "            l.backward()\n",
    "            adadelta([w, b], sqrs, deltas, rho, batch_size)\n",
    "            if batch_i * batch_size % log_interval == 0:\n",
    "                ls.append(loss(net(features, w, b), labels).mean().asnumpy())\n",
    "    print('w:', w, '\\nb:', b, '\\n')\n",
    "    es = np.linspace(0, num_epochs, len(ls), endpoint=True)\n",
    "    gb.semilogy(es, ls, 'epoch', 'loss')"
   ]
  },
  {
   "cell_type": "markdown",
   "metadata": {},
   "source": [
    "最终，优化所得的模型参数值与它们的真实值较接近。"
   ]
  },
  {
   "cell_type": "code",
   "execution_count": 5,
   "metadata": {
    "attributes": {
     "classes": [],
     "id": "",
     "n": "3"
    }
   },
   "outputs": [
    {
     "name": "stdout",
     "output_type": "stream",
     "text": [
      "w: \n",
      "[[ 2.00080371]\n",
      " [-3.40051317]]\n",
      "<NDArray 2x1 @cpu(0)> \n",
      "b: \n",
      "[ 4.20003128]\n",
      "<NDArray 1 @cpu(0)> \n",
      "\n"
     ]
    },
    {
     "data": {
      "image/png": "[encoded data removed]",
      "text/plain": [
       "<Figure size 252x180 with 1 Axes>"
      ]
     },
     "metadata": {
      "image/png": {
       "height": 182,
       "width": 255
      }
     },
     "output_type": "display_data"
    }
   ],
   "source": [
    "optimize(batch_size=10, rho=0.9999, num_epochs=3, log_interval=10)"
   ]
  },
  {
   "cell_type": "markdown",
   "metadata": {},
   "source": [
    "## 小结\n",
    "\n",
    "* Adadelta 没有学习率参数。\n",
    "\n",
    "\n",
    "## 练习\n",
    "\n",
    "* Adadelta 为什么不需要设置学习率超参数？它被什么代替了？\n",
    "\n",
    "\n",
    "## 扫码直达 [ 讨论区 ](https://discuss.gluon.ai/t/topic/2277)\n",
    "\n",
    "![](../img/qr_adadelta.svg)\n",
    "\n",
    "## 参考文献\n",
    "\n",
    "[1] Zeiler, M. D. (2012). ADADELTA: an adaptive learning rate method. arXiv preprint arXiv:1212.5701."
   ]
  }
 ],
 "metadata": {
  "language_info": {
   "name": "python"
  }
 },
 "nbformat": 4,
 "nbformat_minor": 2
}