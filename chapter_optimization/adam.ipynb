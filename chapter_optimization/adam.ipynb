{
 "cells": [
  {
   "cell_type": "markdown",
   "metadata": {},
   "source": [
    "# Adam\n",
    "\n",
    "Adam 是一个组合了动量法和 RMSProp 的优化算法 [1]。下面我们来介绍 Adam 算法。\n",
    "\n",
    "\n",
    "## Adam 算法\n",
    "\n",
    "Adam 算法使用了动量变量 $\\boldsymbol{v}$ 和 RMSProp 中小批量随机梯度按元素平方的指数加权移动平均变量 $\\boldsymbol{s}$，并将它们中每个元素初始化为 0。在每次迭代中，时刻 $t$ 的小批量随机梯度记作 $\\boldsymbol{g}_t$。\n",
    "\n",
    "\n",
    "和动量法类似，给定超参数 $\\beta_1$ 且满足 $0 \\leq \\beta_1 < 1$（算法作者建议设为 0.9），将小批量随机梯度的指数加权移动平均记作动量变量 $\\boldsymbol{v}$，并将它在时刻 $t$ 的值记作 $\\boldsymbol{v}_t$：\n",
    "\n",
    "$$\\boldsymbol{v}_t \\leftarrow \\beta_1 \\boldsymbol{v}_{t-1} + (1 - \\beta_1) \\boldsymbol{g}_t. $$\n",
    "\n",
    "和 RMSProp 中一样，给定超参数 $\\beta_2$ 且满足 $0 \\leq \\beta_2 < 1$（算法作者建议设为 0.999），\n",
    "将小批量随机梯度按元素平方后做指数加权移动平均得到 $\\boldsymbol{s}$，并将它在时刻 $t$ 的值记作 $\\boldsymbol{s}_t$：\n",
    "\n",
    "$$\\boldsymbol{s}_t \\leftarrow \\beta_2 \\boldsymbol{s}_{t-1} + (1 - \\beta_2) \\boldsymbol{g}_t \\odot \\boldsymbol{g}_t. $$\n",
    "\n",
    "由于我们将 $\\boldsymbol{v}$ 和 $\\boldsymbol{s}$ 中的元素都初始化为 0，\n",
    "在时刻 $t$ 我们得到 $\\boldsymbol{v}_t =  (1-\\beta_1) \\sum_{i=1}^t \\beta_1^{t-i} \\boldsymbol{g}_i$。将过去各时刻小批量随机梯度的权值相加，得到 $(1-\\beta_1) \\sum_{i=1}^t \\beta_1^{t-i} = 1 - \\beta_1^t$。需要注意的是，当 $t$ 较小时，过去各时刻小批量随机梯度权值之和会较小。例如当 $\\beta_1 = 0.9$ 时，$\\boldsymbol{v}_1 = 0.1\\boldsymbol{g}_1$。为了消除这样的影响，对于任意时刻 $t$，我们可以将 $\\boldsymbol{v}_t$ 再除以 $1 - \\beta_1^t$，从而使得过去各时刻小批量随机梯度权值之和为 1。这也叫做偏差修正。在 Adam 算法中，我们对变量 $\\boldsymbol{v}$ 和 $\\boldsymbol{s}$ 均作偏差修正：\n",
    "\n",
    "$$\\hat{\\boldsymbol{v}}_t \\leftarrow \\frac{\\boldsymbol{v}_t}{1 - \\beta_1^t}, $$\n",
    "\n",
    "$$\\hat{\\boldsymbol{s}}_t \\leftarrow \\frac{\\boldsymbol{s}_t}{1 - \\beta_2^t}. $$\n",
    "\n",
    "\n",
    "接下来，Adam 算法使用以上偏差修正后的变量 $\\hat{\\boldsymbol{v}}_t$ 和 $\\hat{\\boldsymbol{s}}_t$，将模型参数中每个元素的学习率通过按元素运算重新调整：\n",
    "\n",
    "$$\\boldsymbol{g}_t' \\leftarrow \\frac{\\eta \\hat{\\boldsymbol{v}}_t}{\\sqrt{\\hat{\\boldsymbol{s}}_t + \\epsilon}},$$\n",
    "\n",
    "其中 $\\eta$ 是初始学习率且 $\\eta > 0$，$\\epsilon$ 是为了维持数值稳定性而添加的常数，例如 $10^{-8}$。和 Adagrad、RMSProp 以及 Adadelta 一样，目标函数自变量中每个元素都分别拥有自己的学习率。\n",
    "\n",
    "最后，时刻 $t$ 的自变量 $\\boldsymbol{x}_t$ 的迭代步骤与小批量随机梯度下降类似：\n",
    "\n",
    "$$\\boldsymbol{x}_t \\leftarrow \\boldsymbol{x}_{t-1} - \\boldsymbol{g}_t'. $$\n",
    "\n",
    "\n",
    "## Adam 的实现\n",
    "\n",
    "\n",
    "Adam 的实现很简单。我们只需要把上面的数学公式翻译成代码。"
   ]
  },
  {
   "cell_type": "code",
   "execution_count": 1,
   "metadata": {},
   "outputs": [],
   "source": [
    "def adam(params, vs, sqrs, lr, batch_size, t):\n",
    "    beta1 = 0.9\n",
    "    beta2 = 0.999\n",
    "    eps_stable = 1e-8\n",
    "    for param, v, sqr in zip(params, vs, sqrs):      \n",
    "        g = param.grad / batch_size\n",
    "        v[:] = beta1 * v + (1 - beta1) * g\n",
    "        sqr[:] = beta2 * sqr + (1 - beta2) * g.square()\n",
    "        v_bias_corr = v / (1 - beta1 ** t)\n",
    "        sqr_bias_corr = sqr / (1 - beta2 ** t)    \n",
    "        param[:] = param - lr * v_bias_corr / (\n",
    "            sqr_bias_corr.sqrt() + eps_stable)  "
   ]
  },
  {
   "cell_type": "markdown",
   "metadata": {},
   "source": [
    "## 实验\n",
    "\n",
    "首先，导入实验所需的包或模块。"
   ]
  },
  {
   "cell_type": "code",
   "execution_count": 2,
   "metadata": {},
   "outputs": [],
   "source": [
    "import sys\n",
    "sys.path.append('..')\n",
    "import gluonbook as gb\n",
    "from mxnet import autograd, nd\n",
    "import numpy as np"
   ]
  },
  {
   "cell_type": "markdown",
   "metadata": {},
   "source": [
    "实验中，我们依然以线性回归为例。设数据集的样本数为 1000，我们使用权重 `w` 为 [2, -3.4]，偏差 `b` 为 4.2 的线性回归模型来生成数据集。该模型的平方损失函数即所需优化的目标函数，模型参数即目标函数自变量。\n",
    "\n",
    "我们把算法中变量 $\\boldsymbol{v}$ 和 $\\boldsymbol{s}$ 初始化为和模型参数形状相同的零张量。"
   ]
  },
  {
   "cell_type": "code",
   "execution_count": 3,
   "metadata": {
    "attributes": {
     "classes": [],
     "id": "",
     "n": "1"
    }
   },
   "outputs": [],
   "source": [
    "# 生成数据集。\n",
    "num_inputs = 2\n",
    "num_examples = 1000\n",
    "true_w = [2, -3.4]\n",
    "true_b = 4.2\n",
    "features = nd.random.normal(scale=1, shape=(num_examples, num_inputs))\n",
    "labels = true_w[0] * features[:, 0] + true_w[1] * features[:, 1] + true_b\n",
    "labels += nd.random.normal(scale=0.01, shape=labels.shape)\n",
    "\n",
    "# 初始化模型参数。\n",
    "def init_params():\n",
    "    w = nd.random.normal(scale=0.01, shape=(num_inputs, 1))\n",
    "    b = nd.zeros(shape=(1,))\n",
    "    params = [w, b]\n",
    "    vs = []\n",
    "    sqrs = []\n",
    "    for param in params:\n",
    "        param.attach_grad()\n",
    "        # 把算法中基于指数加权移动平均的变量初始化为和参数形状相同的零张量。\n",
    "        vs.append(param.zeros_like())\n",
    "        sqrs.append(param.zeros_like())\n",
    "    return params, vs, sqrs"
   ]
  },
  {
   "cell_type": "markdown",
   "metadata": {},
   "source": [
    "优化函数 `optimize` 与 [“Adagrad”](adagrad.md) 一节中的类似。"
   ]
  },
  {
   "cell_type": "code",
   "execution_count": 4,
   "metadata": {
    "attributes": {
     "classes": [],
     "id": "",
     "n": "2"
    }
   },
   "outputs": [],
   "source": [
    "net = gb.linreg\n",
    "loss = gb.squared_loss\n",
    "\n",
    "def optimize(batch_size, lr, num_epochs, log_interval):\n",
    "    [w, b], vs, sqrs = init_params()\n",
    "    ls = [loss(net(features, w, b), labels).mean().asnumpy()]\n",
    "    t = 0\n",
    "    for epoch in range(1, num_epochs + 1):\n",
    "        for batch_i, (X, y) in enumerate(\n",
    "            gb.data_iter(batch_size, features, labels)):\n",
    "            with autograd.record():\n",
    "                l = loss(net(X, w, b), y)\n",
    "            l.backward()\n",
    "            # 必须在调用 Adam 前。\n",
    "            t += 1\n",
    "            adam([w, b], vs, sqrs, lr, batch_size, t)\n",
    "            if batch_i * batch_size % log_interval == 0:\n",
    "                ls.append(loss(net(features, w, b), labels).mean().asnumpy())\n",
    "    print('w:', w, '\\nb:', b, '\\n')\n",
    "    es = np.linspace(0, num_epochs, len(ls), endpoint=True)\n",
    "    gb.semilogy(es, ls, 'epoch', 'loss')"
   ]
  },
  {
   "cell_type": "markdown",
   "metadata": {},
   "source": [
    "最终，优化所得的模型参数值与它们的真实值较接近。"
   ]
  },
  {
   "cell_type": "code",
   "execution_count": 5,
   "metadata": {
    "attributes": {
     "classes": [],
     "id": "",
     "n": "3"
    }
   },
   "outputs": [
    {
     "name": "stdout",
     "output_type": "stream",
     "text": [
      "w: \n",
      "[[ 1.99964905]\n",
      " [-3.39966011]]\n",
      "<NDArray 2x1 @cpu(0)> \n",
      "b: \n",
      "[ 4.19986629]\n",
      "<NDArray 1 @cpu(0)> \n",
      "\n"
     ]
    },
    {
     "data": {
      "image/png": "[encoded data removed]",
      "text/plain": [
       "<Figure size 252x180 with 1 Axes>"
      ]
     },
     "metadata": {
      "image/png": {
       "height": 182,
       "width": 255
      }
     },
     "output_type": "display_data"
    }
   ],
   "source": [
    "optimize(batch_size=10, lr=0.1, num_epochs=3, log_interval=10)"
   ]
  },
  {
   "cell_type": "markdown",
   "metadata": {},
   "source": [
    "## 小结\n",
    "\n",
    "* Adam 组合了动量法和 RMSProp。\n",
    "* Adam 使用了偏差修正。\n",
    "\n",
    "\n",
    "## 练习\n",
    "\n",
    "* 使用其他初始学习率，观察并分析实验结果。\n",
    "\n",
    "\n",
    "## 扫码直达 [ 讨论区 ](https://discuss.gluon.ai/t/topic/2279)\n",
    "\n",
    "\n",
    "![](../img/qr_adam.svg)\n",
    "\n",
    "## 参考文献\n",
    "\n",
    "[1] Kingma, D. P., & Ba, J. (2014). Adam: A method for stochastic optimization. arXiv preprint arXiv:1412.6980."
   ]
  }
 ],
 "metadata": {
  "language_info": {
   "name": "python"
  }
 },
 "nbformat": 4,
 "nbformat_minor": 2
}