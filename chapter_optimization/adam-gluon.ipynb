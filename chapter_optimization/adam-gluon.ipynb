{
 "cells": [
  {
   "cell_type": "markdown",
   "metadata": {},
   "source": [
    "# Adam 的 Gluon 实现\n",
    "\n",
    "在 Gluon 里，使用 Adadelta 很容易，我们无需重新实现该算法。\n",
    "\n",
    "首先，导入本节中实验所需的包或模块。"
   ]
  },
  {
   "cell_type": "code",
   "execution_count": 1,
   "metadata": {},
   "outputs": [],
   "source": [
    "import sys\n",
    "sys.path.append('..')\n",
    "import gluonbook as gb\n",
    "from mxnet import gluon, init, nd\n",
    "from mxnet.gluon import nn"
   ]
  },
  {
   "cell_type": "markdown",
   "metadata": {},
   "source": [
    "下面生成实验数据集并定义线性回归模型。"
   ]
  },
  {
   "cell_type": "code",
   "execution_count": 2,
   "metadata": {
    "attributes": {
     "classes": [],
     "id": "",
     "n": "1"
    }
   },
   "outputs": [],
   "source": [
    "# 生成数据集。\n",
    "num_inputs = 2\n",
    "num_examples = 1000\n",
    "true_w = [2, -3.4]\n",
    "true_b = 4.2\n",
    "features = nd.random.normal(scale=1, shape=(num_examples, num_inputs))\n",
    "labels = true_w[0] * features[:, 0] + true_w[1] * features[:, 1] + true_b\n",
    "labels += nd.random.normal(scale=0.01, shape=labels.shape)\n",
    "\n",
    "# 线性回归模型。\n",
    "net = nn.Sequential()\n",
    "net.add(nn.Dense(1))"
   ]
  },
  {
   "cell_type": "markdown",
   "metadata": {},
   "source": [
    "我们可以在 Trainer 中定义优化算法名称 `adam` 并定义初始学习率。以下实验重现了 [“Adam”](adam.md) 一节中实验结果。"
   ]
  },
  {
   "cell_type": "code",
   "execution_count": 3,
   "metadata": {
    "attributes": {
     "classes": [],
     "id": "",
     "n": "3"
    }
   },
   "outputs": [
    {
     "name": "stdout",
     "output_type": "stream",
     "text": [
      "w: \n",
      "[[ 1.99884164 -3.40041995]]\n",
      "<NDArray 1x2 @cpu(0)> \n",
      "b: \n",
      "[ 4.20041609]\n",
      "<NDArray 1 @cpu(0)> \n",
      "\n"
     ]
    },
    {
     "data": {
      "image/png": "[encoded data removed]",
      "text/plain": [
       "<Figure size 252x180 with 1 Axes>"
      ]
     },
     "metadata": {
      "image/png": {
       "height": 182,
       "width": 255
      }
     },
     "output_type": "display_data"
    }
   ],
   "source": [
    "net.initialize(init.Normal(sigma=0.01), force_reinit=True)\n",
    "trainer = gluon.Trainer(net.collect_params(), 'adam', {'learning_rate': 0.1})\n",
    "gb.optimize(batch_size=10, trainer=trainer, num_epochs=3, decay_epoch=None,\n",
    "            log_interval=10, features=features, labels=labels, net=net)"
   ]
  },
  {
   "cell_type": "markdown",
   "metadata": {},
   "source": [
    "## 小结\n",
    "\n",
    "* 使用 Gluon 的 `Trainer` 可以方便地使用 Adam。\n",
    "\n",
    "\n",
    "## 练习\n",
    "\n",
    "* 总结本章各个优化算法的异同。\n",
    "* 回顾前面几章中你感兴趣的模型，将训练部分的优化算法替换成其他算法，观察并分析实验现象。\n",
    "\n",
    "\n",
    "## 扫码直达 [ 讨论区 ](https://discuss.gluon.ai/t/topic/2280)\n",
    "\n",
    "\n",
    "![](../img/qr_adam-gluon.svg)\n",
    "\n",
    "\n",
    "## 本章回顾\n",
    "\n",
    "\n",
    "> 梯度下降可沉甸，  随机降低方差难。\n",
    "\n",
    "> 引入动量别弯慢，  Adagrad 梯方贪。\n",
    "\n",
    "> Adadelta 学率换， RMSProp 梯方权。\n",
    "\n",
    "> Adam 动量 RMS 伴，  优化还需己调参。\n",
    "\n",
    "\n",
    "注释：\n",
    "\n",
    "* 梯方：梯度按元素平方。\n",
    "* 贪：因贪婪故而不断累加。\n",
    "* 学率：学习率。\n",
    "* 换：这个参数被替换掉。\n",
    "* 权：指数加权移动平均。"
   ]
  }
 ],
 "metadata": {
  "language_info": {
   "name": "python"
  }
 },
 "nbformat": 4,
 "nbformat_minor": 2
}