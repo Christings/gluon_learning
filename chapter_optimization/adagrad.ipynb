{
 "cells": [
  {
   "cell_type": "markdown",
   "metadata": {},
   "source": [
    "# Adagrad\n",
    "\n",
    "\n",
    "在我们之前介绍过的优化算法中，无论是梯度下降、随机梯度下降、小批量随机梯度下降还是使用动量法，目标函数自变量的每一个元素在相同时刻都使用同一个学习率来自我迭代。\n",
    "\n",
    "举个例子，假设目标函数为 $f$，自变量为一个多维向量 $[x_1, x_2]^\\top$，该向量中每一个元素在更新时都使用相同的学习率。例如在学习率为 $\\eta$ 的梯度下降中，元素 $x_1$ 和 $x_2$ 都使用相同的学习率 $\\eta$ 来自我迭代：\n",
    "\n",
    "$$\n",
    "x_1 \\leftarrow x_1 - \\eta \\frac{\\partial{f}}{\\partial{x_1}}, \\\\\n",
    "x_2 \\leftarrow x_2 - \\eta \\frac{\\partial{f}}{\\partial{x_2}}.\n",
    "$$\n",
    "\n",
    "如果让 $x_1$ 和 $x_2$ 使用不同的学习率自我迭代呢？实际上，Adagrad 就是一个在迭代过程中不断自我调整学习率，并让模型参数中每个元素都使用不同学习率的优化算法 [1]。\n",
    "\n",
    "下面，我们将介绍 Adagrad 算法。关于本节中涉及到的按元素运算，例如标量与向量计算以及按元素相乘 $\\odot$，请参见 [“数学基础”](../chapter_appendix/math.md) 一节。\n",
    "\n",
    "\n",
    "## Adagrad 算法\n",
    "\n",
    "Adagrad 的算法会使用一个小批量随机梯度按元素平方的累加变量 $\\boldsymbol{s}$，并将其中每个元素初始化为 0。在每次迭代中，首先计算小批量随机梯度 $\\boldsymbol{g}$，然后将该梯度按元素平方后累加到变量 $\\boldsymbol{s}$：\n",
    "\n",
    "$$\\boldsymbol{s} \\leftarrow \\boldsymbol{s} + \\boldsymbol{g} \\odot \\boldsymbol{g}. $$\n",
    "\n",
    "然后，我们将目标函数自变量中每个元素的学习率通过按元素运算重新调整一下：\n",
    "\n",
    "$$\\boldsymbol{g}' \\leftarrow \\frac{\\eta}{\\sqrt{\\boldsymbol{s} + \\epsilon}} \\odot \\boldsymbol{g},$$\n",
    "\n",
    "其中 $\\eta$ 是初始学习率且 $\\eta > 0$，$\\epsilon$ 是为了维持数值稳定性而添加的常数，例如 $10^{-7}$。我们需要注意其中按元素开方、除法和乘法的运算。这些按元素运算使得目标函数自变量中每个元素都分别拥有自己的学习率。\n",
    "\n",
    "最后，自变量的迭代步骤与小批量随机梯度下降类似。只是这里梯度前的学习率已经被调整过了：\n",
    "\n",
    "$$\\boldsymbol{x} \\leftarrow \\boldsymbol{x} - \\boldsymbol{g}'.$$\n",
    "\n",
    "\n",
    "## Adagrad 的特点\n",
    "\n",
    "需要强调的是，小批量随机梯度按元素平方的累加变量 $\\boldsymbol{s}$ 出现在含调整后学习率的梯度 $\\boldsymbol{g}'$ 的分母项。因此，如果目标函数有关自变量中某个元素的偏导数一直都较大，那么就让该元素的学习率下降快一点；反之，如果目标函数有关自变量中某个元素的偏导数一直都较小，那么就让该元素的学习率下降慢一点。然而，由于 $\\boldsymbol{s}$ 一直在累加按元素平方的梯度，自变量中每个元素的学习率在迭代过程中一直在降低（或不变）。所以，当学习率在迭代早期降得较快且当前解依然不佳时，Adagrad 在迭代后期由于学习率过小，可能较难找到一个有用的解。\n",
    "\n",
    "\n",
    "## Adagrad 的实现\n",
    "\n",
    "Adagrad 的实现很简单。我们只需要把上面的数学公式翻译成代码。"
   ]
  },
  {
   "cell_type": "code",
   "execution_count": 1,
   "metadata": {
    "attributes": {
     "classes": [],
     "id": "",
     "n": "1"
    }
   },
   "outputs": [],
   "source": [
    "def adagrad(params, sqrs, lr, batch_size):\n",
    "    eps_stable = 1e-7\n",
    "    for param, sqr in zip(params, sqrs):\n",
    "        g = param.grad / batch_size\n",
    "        sqr[:] += g.square()\n",
    "        param[:] -= lr * g / (sqr + eps_stable).sqrt()"
   ]
  },
  {
   "cell_type": "markdown",
   "metadata": {},
   "source": [
    "## 实验\n",
    "\n",
    "首先，导入本节中实验所需的包或模块。"
   ]
  },
  {
   "cell_type": "code",
   "execution_count": 2,
   "metadata": {},
   "outputs": [],
   "source": [
    "import sys\n",
    "sys.path.append('..')\n",
    "import gluonbook as gb\n",
    "from mxnet import autograd, nd\n",
    "import numpy as np"
   ]
  },
  {
   "cell_type": "markdown",
   "metadata": {},
   "source": [
    "实验中，我们以之前介绍过的线性回归为例。设数据集的样本数为 1000，我们使用权重 `w` 为 [2, -3.4]，偏差 `b` 为 4.2 的线性回归模型来生成数据集。该模型的平方损失函数即所需优化的目标函数，模型参数即目标函数自变量。\n",
    "\n",
    "我们把梯度按元素平方的累加变量初始化为和模型参数形状相同的零张量。"
   ]
  },
  {
   "cell_type": "code",
   "execution_count": 3,
   "metadata": {
    "attributes": {
     "classes": [],
     "id": "",
     "n": "2"
    }
   },
   "outputs": [],
   "source": [
    "# 生成数据集。\n",
    "num_inputs = 2\n",
    "num_examples = 1000\n",
    "true_w = [2, -3.4]\n",
    "true_b = 4.2\n",
    "features = nd.random.normal(scale=1, shape=(num_examples, num_inputs))\n",
    "labels = true_w[0] * features[:, 0] + true_w[1] * features[:, 1] + true_b\n",
    "labels += nd.random.normal(scale=0.01, shape=labels.shape)\n",
    "\n",
    "# 初始化模型参数。\n",
    "def init_params():\n",
    "    w = nd.random.normal(scale=0.01, shape=(num_inputs, 1))\n",
    "    b = nd.zeros(shape=(1,))\n",
    "    params = [w, b]\n",
    "    sqrs = []\n",
    "    for param in params:\n",
    "        param.attach_grad()\n",
    "        # 把梯度按元素平方的累加变量初始化为和参数形状相同的零张量。\n",
    "        sqrs.append(param.zeros_like())\n",
    "    return params, sqrs"
   ]
  },
  {
   "cell_type": "markdown",
   "metadata": {},
   "source": [
    "优化函数 `optimize` 与 [“梯度下降和随机梯度下降”](gd-sgd.md) 一节中的类似。需要指出的是，这里的初始学习率 `lr` 无需自我衰减。"
   ]
  },
  {
   "cell_type": "code",
   "execution_count": 4,
   "metadata": {
    "attributes": {
     "classes": [],
     "id": "",
     "n": "3"
    }
   },
   "outputs": [],
   "source": [
    "net = gb.linreg\n",
    "loss = gb.squared_loss\n",
    "\n",
    "def optimize(batch_size, lr, num_epochs, log_interval):\n",
    "    [w, b], sqrs = init_params()\n",
    "    ls = [loss(net(features, w, b), labels).mean().asnumpy()]\n",
    "    for epoch in range(1, num_epochs + 1):\n",
    "        for batch_i, (X, y) in enumerate(\n",
    "            gb.data_iter(batch_size, features, labels)):\n",
    "            with autograd.record():\n",
    "                l = loss(net(X, w, b), y)\n",
    "            l.backward()\n",
    "            adagrad([w, b], sqrs, lr, batch_size)\n",
    "            if batch_i * batch_size % log_interval == 0:\n",
    "                ls.append(loss(net(features, w, b), labels).mean().asnumpy())\n",
    "    print('w:', w, '\\nb:', b, '\\n')\n",
    "    es = np.linspace(0, num_epochs, len(ls), endpoint=True)\n",
    "    gb.semilogy(es, ls, 'epoch', 'loss')"
   ]
  },
  {
   "cell_type": "markdown",
   "metadata": {},
   "source": [
    "最终，优化所得的模型参数值与它们的真实值较接近。"
   ]
  },
  {
   "cell_type": "code",
   "execution_count": 5,
   "metadata": {
    "attributes": {
     "classes": [],
     "id": "",
     "n": "4"
    }
   },
   "outputs": [
    {
     "name": "stdout",
     "output_type": "stream",
     "text": [
      "w: \n",
      "[[ 1.99902666]\n",
      " [-3.39968181]]\n",
      "<NDArray 2x1 @cpu(0)> \n",
      "b: \n",
      "[ 4.20122194]\n",
      "<NDArray 1 @cpu(0)> \n",
      "\n"
     ]
    },
    {
     "data": {
      "image/png": "[encoded data removed]",
      "text/plain": [
       "<Figure size 252x180 with 1 Axes>"
      ]
     },
     "metadata": {
      "image/png": {
       "height": 182,
       "width": 255
      }
     },
     "output_type": "display_data"
    }
   ],
   "source": [
    "optimize(batch_size=10, lr=0.9, num_epochs=3, log_interval=10)"
   ]
  },
  {
   "cell_type": "markdown",
   "metadata": {},
   "source": [
    "## 小结\n",
    "\n",
    "* Adagrad 在迭代过程中不断调整学习率，并让目标函数自变量中每个元素都分别拥有自己的学习率。\n",
    "* 使用 Adagrad 时，自变量中每个元素的学习率在迭代过程中一直在降低（或不变）。\n",
    "\n",
    "\n",
    "## 练习\n",
    "\n",
    "* 在介绍 Adagrad 的特点时，我们提到了它可能存在的问题。你能想到什么办法来应对这个问题？\n",
    "\n",
    "\n",
    "## 扫码直达 [ 讨论区 ](https://discuss.gluon.ai/t/topic/2273)\n",
    "\n",
    "![](../img/qr_adagrad.svg)\n",
    "\n",
    "\n",
    "## 参考文献\n",
    "\n",
    "[1] Duchi, J., Hazan, E., & Singer, Y. (2011). Adaptive subgradient methods for online learning and stochastic optimization. Journal of Machine Learning Research, 12(Jul), 2121-2159."
   ]
  }
 ],
 "metadata": {
  "language_info": {
   "name": "python"
  }
 },
 "nbformat": 4,
 "nbformat_minor": 2
}