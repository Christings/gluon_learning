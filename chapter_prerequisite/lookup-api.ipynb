{
 "cells": [
  {
   "cell_type": "markdown",
   "metadata": {},
   "source": [
    "# 查阅 MXNet 文档\n",
    "\n",
    "受篇幅所限，本书无法对所有 MXNet 的应用程序接口（API）一一介绍。每当遇到不熟悉的 MXNet API 时，我们可以主动查阅它的相关文档。\n",
    "\n",
    "\n",
    "## 使用 `dir` 函数\n",
    "\n",
    "我们可以使用 `dir` 函数查阅 API 中包含的成员或属性。打印 `autograd` 模块中所有的成员或属性。"
   ]
  },
  {
   "cell_type": "code",
   "execution_count": 1,
   "metadata": {
    "attributes": {
     "classes": [],
     "id": "",
     "n": "1"
    }
   },
   "outputs": [
    {
     "name": "stdout",
     "output_type": "stream",
     "text": [
      "['CFUNCTYPE', 'Function', 'Lock', 'MXCallbackList', 'NDArray', 'NDArrayHandle', 'POINTER', 'Symbol', 'SymbolHandle', '_GRAD_REQ_MAP', '_LIB', '_RecordingStateScope', '__builtins__', '__cached__', '__doc__', '__file__', '__loader__', '__name__', '__package__', '__spec__', '_ndarray_cls', '_parse_head', 'absolute_import', 'array', 'backward', 'c_array', 'c_array_buf', 'c_handle_array', 'c_int', 'c_void_p', 'cast', 'check_call', 'ctypes', 'division', 'get_symbol', 'grad', 'is_recording', 'is_training', 'mark_variables', 'mx_uint', 'pause', 'predict_mode', 'record', 'set_recording', 'set_training', 'string_types', 'traceback', 'train_mode']\n"
     ]
    }
   ],
   "source": [
    "from mxnet import autograd\n",
    "print(dir(autograd))"
   ]
  },
  {
   "cell_type": "markdown",
   "metadata": {},
   "source": [
    "## 使用 `help` 函数\n",
    "\n",
    "当我们想了解 API 的具体用法时，可以使用 `help` 函数。让我们以 NDArray 中的 `ones_like` 函数为例，查阅它的用法。"
   ]
  },
  {
   "cell_type": "code",
   "execution_count": 2,
   "metadata": {},
   "outputs": [
    {
     "name": "stdout",
     "output_type": "stream",
     "text": [
      "Help on function ones_like:\n",
      "\n",
      "ones_like(data=None, out=None, name=None, **kwargs)\n",
      "    Return an array of ones with the same shape and type\n",
      "    as the input array.\n",
      "    \n",
      "    Examples::\n",
      "    \n",
      "      x = [[ 0.,  0.,  0.],\n",
      "           [ 0.,  0.,  0.]]\n",
      "    \n",
      "      ones_like(x) = [[ 1.,  1.,  1.],\n",
      "                      [ 1.,  1.,  1.]]\n",
      "    \n",
      "    \n",
      "    \n",
      "    Parameters\n",
      "    ----------\n",
      "    data : NDArray\n",
      "        The input\n",
      "    \n",
      "    out : NDArray, optional\n",
      "        The output NDArray to hold the result.\n",
      "    \n",
      "    Returns\n",
      "    -------\n",
      "    out : NDArray or list of NDArrays\n",
      "        The output of this function.\n",
      "\n"
     ]
    }
   ],
   "source": [
    "from mxnet import nd\n",
    "help(nd.ones_like) # 在 Jupyter notebook 中可使用问号查询，例如 nd.ones_like?"
   ]
  },
  {
   "cell_type": "markdown",
   "metadata": {},
   "source": [
    "从文档信息我们了解到，`ones_like` 函数会创建和输入 NDArray 形状相同且元素为 1 的新的 NDArray。我们可以验证一下："
   ]
  },
  {
   "cell_type": "code",
   "execution_count": 3,
   "metadata": {},
   "outputs": [
    {
     "data": {
      "text/plain": [
       "\n",
       "[[ 1.  1.  1.]\n",
       " [ 1.  1.  1.]]\n",
       "<NDArray 2x3 @cpu(0)>"
      ]
     },
     "execution_count": 3,
     "metadata": {},
     "output_type": "execute_result"
    }
   ],
   "source": [
    "x = nd.array([[0,0,0], [2,2,2]])\n",
    "y = x.ones_like()\n",
    "y"
   ]
  },
  {
   "cell_type": "markdown",
   "metadata": {},
   "source": [
    "## 在 MXNet 网站上查阅\n",
    "\n",
    "我们也可以在 MXNet 的网站上查阅 API 的相关文档。访问 MXNet 网站（mxnet.apache.org）。如图 2.1 所示，点击网页顶部的下拉菜单“API”可查阅各个前端语言的 API。此外，我们也可以在网页右上方含“Search”字样的搜索框中直接搜索 API 名称。\n",
    "\n",
    "![MXNet 官方网站（mxnet.apache.org）。点击顶部的下拉菜单“API”可查阅各个前端语言的 API。在右上方含“Search”字样的搜索框中也可直接搜索 API 名称。](../img/mxnet-website.png)\n",
    "\n",
    "图 2.2 展示了 MXNet 网站上有关 `ones_like` 函数的文档。\n",
    "\n",
    "![MXNet 网站上有关 `ones_like` 函数的文档。](../img/ones_like.png)\n",
    "\n",
    "## 小结\n",
    "\n",
    "* 每当遇到不熟悉的 MXNet API 时，我们可以主动查阅它的相关文档。\n",
    "* 查阅 MXNet 文档可以使用 `dir` 和 `help` 函数，或访问 MXNet 官网。\n",
    "\n",
    "\n",
    "## 练习\n",
    "\n",
    "* 查阅 NDArray 支持的其他操作。\n",
    "\n",
    "\n",
    "## 扫码直达 [ 讨论区 ](https://discuss.gluon.ai/t/topic/7116)\n",
    "\n",
    "![](../img/qr_lookup-api.svg)"
   ]
  }
 ],
 "metadata": {
  "language_info": {
   "name": "python"
  }
 },
 "nbformat": 4,
 "nbformat_minor": 2
}