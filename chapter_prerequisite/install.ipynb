{
 "cells": [
  {
   "cell_type": "markdown",
   "metadata": {},
   "source": [
    "# 安装和运行\n",
    "\n",
    "为了动手学深度学习，我们需要获取本书代码，安装并运行 Python、MXNet、Jupyter notebook 等工具。\n",
    "\n",
    "\n",
    "## 进入命令行模式\n",
    "\n",
    "在这一节中，我们将描述安装和运行所需要的命令。执行命令需要进入命令行模式：Windows 用户可以在文件资源管理器的地址栏输入 `cmd` 并按回车键，Linux/macOS 用户可以打开 Terminal 应用。\n",
    "\n",
    "\n",
    "## 获取代码并安装运行环境\n",
    "\n",
    "我们可以通过 Conda 来获取本书代码并安装运行环境。Windows 和 Linux/macOS 用户请分别参照以下步骤。\n",
    "\n",
    "\n",
    "### Windows 用户\n",
    "\n",
    "第一步，根据操作系统下载并安装 Miniconda（网址：https://conda.io/miniconda.html ），在安装过程中需要勾选“Add Anaconda to my PATH environment variable”选项。\n",
    "\n",
    "第二步，下载包含本书全部代码的压缩包。我们可以在浏览器的地址栏中输入以下地址并按回车键进行下载：\n",
    "\n",
    "> https://zh.gluon.ai/gluon_tutorials_zh-1.0.zip\n",
    "\n",
    "下载完成后，创建文件夹“gluon_tutorials_zh-1.0”并将以上压缩包解压到这个文件夹。在该目录文件资源管理器的地址栏输入 `cmd` 进入命令行模式。\n",
    "\n",
    "第三步，安装运行所需的软件包并激活该运行环境。我们可以先通过运行下面命令来配置下载源，从而使用国内镜像加速下载 :"
   ]
  },
  {
   "cell_type": "markdown",
   "metadata": {},
   "source": [
    "```\n",
    "# 优先使用清华 conda 镜像。\n",
    "conda config --prepend channels https://mirrors.tuna.tsinghua.edu.cn/anaconda/pkgs/free/\n",
    "\n",
    "# 或者选用科大 conda 镜像。\n",
    "conda config --prepend channels http://mirrors.ustc.edu.cn/anaconda/pkgs/free/\n",
    "```\n"
   ]
  },
  {
   "cell_type": "markdown",
   "metadata": {},
   "source": [
    "然后运行以下命令安装并激活运行环境。"
   ]
  },
  {
   "cell_type": "markdown",
   "metadata": {},
   "source": [
    "```\n",
    "conda env create -f environment.yml\n",
    "activate gluon\n",
    "```\n"
   ]
  },
  {
   "cell_type": "markdown",
   "metadata": {},
   "source": [
    "第四步，打开 Juputer notebook。运行下面命令。"
   ]
  },
  {
   "cell_type": "markdown",
   "metadata": {},
   "source": [
    "```\n",
    "jupyter notebook\n",
    "```\n"
   ]
  },
  {
   "cell_type": "markdown",
   "metadata": {},
   "source": [
    "这时在浏览器打开 http://localhost:8888 （通常会自动打开）就可以查看和运行本书中每一节的代码了。\n",
    "\n",
    "第五步（可选项），如果你是国内用户，建议使用国内 Gluon 镜像加速数据集和预训练模型的下载。运行下面命令。"
   ]
  },
  {
   "cell_type": "markdown",
   "metadata": {},
   "source": [
    "```\n",
    "set MXNET_GLUON_REPO=https://apache-mxnet.s3.cn-north-1.amazonaws.com.cn/ jupyter notebook\n",
    "```\n"
   ]
  },
  {
   "cell_type": "markdown",
   "metadata": {},
   "source": [
    "### Linux/macOS 用户\n",
    "\n",
    "第一步，根据操作系统下载并安装 Miniconda（网址：https://conda.io/miniconda.html ）。\n",
    "\n",
    "安装时会显示使用条款，按“↓”继续阅读，按“Q”退出阅读。之后需要回答下面几个问题："
   ]
  },
  {
   "cell_type": "markdown",
   "metadata": {},
   "source": [
    "```\n",
    "Do you accept the license terms? [yes|no]\n",
    "[no] >>> yes\n",
    "Do you wish the installer to prepend the Miniconda3 install location\n",
    "to PATH in your /xx/yyy/.zzzz ? [yes|no]\n",
    "[no] >>> yes\n",
    "```\n"
   ]
  },
  {
   "cell_type": "markdown",
   "metadata": {},
   "source": [
    "安装完成后，我们需要让 conda 生效。Linux 用户需要运行一次 `source ~/.bashrc` 或重启命令行；macOS 用户需要运行一次 `source ~/.bash_profile` 或重启命令行。\n",
    "\n",
    "第二步，下载包含本书全部代码的压缩包，解压后进入文件夹。运行如下命令。"
   ]
  },
  {
   "cell_type": "markdown",
   "metadata": {},
   "source": [
    "```\n",
    "mkdir gluon_tutorials_zh-1.0 && cd gluon_tutorials_zh-1.0\n",
    "curl https://zh.gluon.ai/gluon_tutorials_zh-1.0.tar.gz -o tutorials.tar.gz\n",
    "tar -xzvf tutorials.tar.gz && rm tutorials.tar.gz\n",
    "```\n"
   ]
  },
  {
   "cell_type": "markdown",
   "metadata": {},
   "source": [
    "第三步，安装运行所需的软件包并激活该运行环境。我们可以先通过运行下面命令来配置下载源，从而使用国内镜像加速下载 :"
   ]
  },
  {
   "cell_type": "markdown",
   "metadata": {},
   "source": [
    "```\n",
    "# 优先使用清华 conda 镜像。\n",
    "conda config --prepend channels https://mirrors.tuna.tsinghua.edu.cn/anaconda/pkgs/free/\n",
    "\n",
    "# 或者选用科大 conda 镜像。\n",
    "conda config --prepend channels http://mirrors.ustc.edu.cn/anaconda/pkgs/free/\n",
    "```\n"
   ]
  },
  {
   "cell_type": "markdown",
   "metadata": {},
   "source": [
    "然后运行以下命令安装并激活运行环境。"
   ]
  },
  {
   "cell_type": "markdown",
   "metadata": {},
   "source": [
    "```\n",
    "conda env create -f environment.yml\n",
    "source activate gluon\n",
    "```\n"
   ]
  },
  {
   "cell_type": "markdown",
   "metadata": {},
   "source": [
    "由于教程会使用 `matplotlib.plot` 函数作图，macOS 用户需要创建或访问 `~/.matplotlib/matplotlibrc` 文件并添加一行代码：`backend: TkAgg`。\n",
    "\n",
    "第四步，打开 Juputer notebook。运行下面命令。"
   ]
  },
  {
   "cell_type": "markdown",
   "metadata": {},
   "source": [
    "```\n",
    "jupyter notebook\n",
    "```\n"
   ]
  },
  {
   "cell_type": "markdown",
   "metadata": {},
   "source": [
    "这时在浏览器打开 http://localhost:8888 （通常会自动打开）就可以查看和运行本书中每一节的代码了。\n",
    "\n",
    "第五步（可选项），如果你是国内用户，建议使用国内 Gluon 镜像加速数据集和预训练模型的下载。运行下面命令。"
   ]
  },
  {
   "cell_type": "markdown",
   "metadata": {},
   "source": [
    "```\n",
    "MXNET_GLUON_REPO=https://apache-mxnet.s3.cn-north-1.amazonaws.com.cn/ jupyter notebook\n",
    "```\n"
   ]
  },
  {
   "cell_type": "markdown",
   "metadata": {},
   "source": [
    "## 激活运行环境\n",
    "\n",
    "运行环境中已安装了运行书中代码所需的 Python、MXNet、Jupyter notebook 等工具。我们可以在下载并解压的代码包里的文件“gluon_tutorials_zh-1.0/environment.yml”中查看它们。在运行书中代码前，我们需要激活运行环境。Windows 和 Linux/macOS 用户请分别参照以下步骤激活并退出运行环境。\n",
    "\n",
    "### Windows 用户\n",
    "\n",
    "首先进入之前解压得到的文件夹“gluon_tutorials_zh-1.0”。然后在该目录文件资源管理器的地址栏输入 `cmd` 进入命令行模式。最后运行以下命令激活安装环境。"
   ]
  },
  {
   "cell_type": "markdown",
   "metadata": {},
   "source": [
    "```\n",
    "activate gluon\n",
    "```\n"
   ]
  },
  {
   "cell_type": "markdown",
   "metadata": {},
   "source": [
    "如需退出激活环境，运行以下命令。"
   ]
  },
  {
   "cell_type": "markdown",
   "metadata": {},
   "source": [
    "```\n",
    "deactivate\n",
    "```\n"
   ]
  },
  {
   "cell_type": "markdown",
   "metadata": {},
   "source": [
    "###  Linux/macOS 用户\n",
    "\n",
    "首先在命令行模式下进入之前解压得到的文件夹“gluon_tutorials_zh-1.0”（例如运行 `cd gluon_tutorials_zh-1.0`），然后运行以下命令激活安装环境。"
   ]
  },
  {
   "cell_type": "markdown",
   "metadata": {},
   "source": [
    "```\n",
    "source activate gluon\n",
    "```\n"
   ]
  },
  {
   "cell_type": "markdown",
   "metadata": {},
   "source": [
    "如需退出激活环境，运行以下命令。"
   ]
  },
  {
   "cell_type": "markdown",
   "metadata": {},
   "source": [
    "```\n",
    "source deactivate\n",
    "```\n"
   ]
  },
  {
   "cell_type": "markdown",
   "metadata": {},
   "source": [
    "## 更新代码和运行环境\n",
    "\n",
    "为了适应深度学习和 MXNet 的快速发展，本书的开源内容将定期发布新版本。我们推荐大家定期更新本书的开源内容（例如代码）和相应的运行环境（例如新版 MXNet）。以下是更新的具体步骤。\n",
    "\n",
    "\n",
    "第一步，重新下载最新的包含本书全部代码的包。下载地址可以从以下二者之间选择。\n",
    "\n",
    "* https://zh.gluon.ai/gluon_tutorials_zh.zip\n",
    "* https://zh.gluon.ai/gluon_tutorials_zh.tar.gz\n",
    "\n",
    "解压后进入文件夹“gluon_tutorials_zh”。\n",
    "\n",
    "第二步，使用下面命令更新运行环境。"
   ]
  },
  {
   "cell_type": "markdown",
   "metadata": {},
   "source": [
    "```\n",
    "conda env update -f environment.yml\n",
    "```\n"
   ]
  },
  {
   "cell_type": "markdown",
   "metadata": {},
   "source": [
    "## 使用 GPU 版的 MXNet\n",
    "\n",
    "通过前面介绍的方式安装的 MXNet 只支持 CPU 计算。本书中有部分章节需要或推荐使用 GPU 来运行。如果你的电脑上有 Nvidia 显卡并安装了 CUDA，建议使用 GPU 版的 MXNet。\n",
    "\n",
    "我们在完成获取代码并安装运行环境的步骤后，需要先激活运行环境。然后卸载 CPU 版本的 MXNet："
   ]
  },
  {
   "cell_type": "markdown",
   "metadata": {},
   "source": [
    "```\n",
    "pip uninstall mxnet\n",
    "```\n"
   ]
  },
  {
   "cell_type": "markdown",
   "metadata": {},
   "source": [
    "接下来，退出运行环境。使用文本编辑器打开之前解压得到的代码包里的文件“gluon_tutorials_zh-1.0/environment.yml”。如果电脑上装的是 8.0 版本的 CUDA，将该文件中的字符串“mxnet”改为“mxnet-cu80”。如果电脑上安装了其他版本的 CUDA（比如 7.5、9.0、9.2 等），对该文件中的字符串“mxnet”做类似修改（比如改为“mxnet-cu75”、“mxnet-cu90”、“mxnet-cu92”等）。然后，使用下面命令更新运行环境。"
   ]
  },
  {
   "cell_type": "markdown",
   "metadata": {},
   "source": [
    "```\n",
    "conda env update -f environment.yml\n",
    "```\n"
   ]
  },
  {
   "cell_type": "markdown",
   "metadata": {},
   "source": [
    "之后，我们只需要再激活安装环境就可以使用 GPU 版的 MXNet 运行书中代码了。\n",
    "\n",
    "### 更新代码和运行环境\n",
    "\n",
    "如果使用 GPU 版的 MXNet，更新代码和运行环境可参照以下步骤：\n",
    "\n",
    "第一步，重新下载最新的包含本书全部代码的包。下载地址可以从以下二者之间选择。\n",
    "\n",
    "* https://zh.gluon.ai/gluon_tutorials_zh.zip\n",
    "* https://zh.gluon.ai/gluon_tutorials_zh.tar.gz\n",
    "\n",
    "解压后进入文件夹“gluon_tutorials_zh”。\n",
    "\n",
    "第二步，使用文本编辑器打开文件夹“gluon_tutorials_zh”中的环境配置文件“environment.yml”。如果电脑上装的是 8.0 版本的 CUDA，将该文件中的字符串“mxnet”改为“mxnet-cu80”。如果电脑上安装了其他版本的 CUDA（比如 7.5、9.0、9.2 等），对该文件中的字符串“mxnet”做类似修改（比如改为“mxnet-cu75”、“mxnet-cu90”、“mxnet-cu92”等）。\n",
    "\n",
    "\n",
    "第三步，使用下面命令更新运行环境。"
   ]
  },
  {
   "cell_type": "markdown",
   "metadata": {},
   "source": [
    "```\n",
    "conda env update -f environment.yml\n",
    "```\n"
   ]
  },
  {
   "cell_type": "markdown",
   "metadata": {},
   "source": [
    "## 小结\n",
    "\n",
    "* 为了能够动手学深度学习，我们需要获取本书代码并安装运行环境。\n",
    "* 我们建议大家定期更新代码和运行环境。\n",
    "\n",
    "\n",
    "## 练习\n",
    "\n",
    "* 获取本书代码并安装运行环境。如果你在安装时遇到任何问题，请扫一扫本节二维码。在讨论区，你可以查阅疑难问题汇总或者提问。\n",
    "\n",
    "\n",
    "## 扫码直达 [ 讨论区 ](https://discuss.gluon.ai/t/topic/249)\n",
    "\n",
    "![](../img/qr_install.svg)"
   ]
  }
 ],
 "metadata": {
  "language_info": {
   "name": "python"
  }
 },
 "nbformat": 4,
 "nbformat_minor": 2
}