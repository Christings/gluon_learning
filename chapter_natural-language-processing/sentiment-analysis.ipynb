{
 "cells": [
  {
   "cell_type": "markdown",
   "metadata": {},
   "source": [
    "# 文本分类：情感分析\n",
    "\n",
    "文本分类即把一段不定长的文本序列变换为类别。在文本分类问题中，情感分析是一项重要的自然语言处理任务。例如，Netflix 或者 IMDb 可以对每部电影的评论进行情感分类，从而帮助各个平台改进产品，提升用户体验。\n",
    "\n",
    "本节介绍如何使用 Gluon 来创建一个情感分类模型。该模型将判断一段不定长的文本序列中包含的是正面还是负面的情绪，也即将文本序列分类为正面或负面。\n",
    "\n",
    "## 模型设计\n",
    "\n",
    "在这个模型中，我们将应用预训练的词向量和含多个隐藏层的双向循环神经网络。首先，文本序列的每一个词将以预训练的词向量作为词的特征向量。然后，我们使用双向循环神经网络对特征序列进一步编码得到序列信息。最后，我们将编码的序列信息通过全连接层变换为输出。在本节的实验中，我们将双向长短期记忆在最初时间步和最终时间步的隐藏状态连结，作为特征序列的编码信息传递给输出层分类。\n",
    "\n",
    "在实验开始前，导入所需的包或模块。"
   ]
  },
  {
   "cell_type": "code",
   "execution_count": 1,
   "metadata": {
    "attributes": {
     "classes": [],
     "id": "",
     "n": "1"
    }
   },
   "outputs": [],
   "source": [
    "import sys\n",
    "sys.path.append('..')\n",
    "import collections\n",
    "import gluonbook as gb\n",
    "import mxnet as mx\n",
    "from mxnet import autograd, gluon, init, metric, nd\n",
    "from mxnet.contrib import text\n",
    "from mxnet.gluon import loss as gloss, nn, rnn\n",
    "import os\n",
    "import random\n",
    "import zipfile"
   ]
  },
  {
   "cell_type": "markdown",
   "metadata": {},
   "source": [
    "## 读取 IMDb 数据集\n",
    "\n",
    "我们使用 Stanford's Large Movie Review Dataset 作为情感分析的数据集 [1]。它的下载地址是\n",
    "\n",
    "> http://ai.stanford.edu/~amaas/data/sentiment/aclImdb_v1.tar.gz 。\n",
    "\n",
    "这个数据集分为训练和测试用的两个数据集，分别有 25,000 条从 IMDb 下载的关于电影的评论。在每个数据集中，标签为“正面”（1）和“负面”（0）的评论数量相等。将下载好的数据解压并存放在路径“../data/aclImdb”。\n",
    "\n",
    "为方便快速上手，我们提供了上述数据集的小规模采样，并存放在路径“../data/aclImdb_tiny.zip”。如果你将使用上述的 IMDb 完整数据集，还需要把下面 `demo` 变量改为 `False`。"
   ]
  },
  {
   "cell_type": "code",
   "execution_count": 2,
   "metadata": {
    "attributes": {
     "classes": [],
     "id": "",
     "n": "2"
    }
   },
   "outputs": [],
   "source": [
    "# 如果使用下载的 IMDb 的完整数据集，把下面改为 False。\n",
    "demo = True\n",
    "if demo:\n",
    "    with zipfile.ZipFile('../data/aclImdb_tiny.zip', 'r') as zin:\n",
    "        zin.extractall('../data/')"
   ]
  },
  {
   "cell_type": "markdown",
   "metadata": {},
   "source": [
    "下面，读取训练和测试数据集。"
   ]
  },
  {
   "cell_type": "code",
   "execution_count": 3,
   "metadata": {
    "attributes": {
     "classes": [],
     "id": "",
     "n": "3"
    }
   },
   "outputs": [],
   "source": [
    "def readIMDB(dir_url, seg='train'):\n",
    "    pos_or_neg = ['pos', 'neg']\n",
    "    data = []\n",
    "    for label in pos_or_neg:\n",
    "        files = os.listdir(os.path.join('../data/',dir_url, seg, label))\n",
    "        for file in files:\n",
    "            with open(os.path.join('../data/',dir_url, seg, label, file), 'r', encoding='utf8') as rf:\n",
    "                review = rf.read().replace('\\n', '')\n",
    "                if label == 'pos':\n",
    "                    data.append([review, 1])\n",
    "                elif label == 'neg':\n",
    "                    data.append([review, 0])\n",
    "    return data\n",
    "\n",
    "if demo:\n",
    "    train_data = readIMDB('aclImdb_tiny', 'train')\n",
    "    test_data = readIMDB('aclImdb_tiny', 'test')\n",
    "else:\n",
    "    train_data = readIMDB('aclImdb', 'train')\n",
    "    test_data = readIMDB('aclImdb', 'test')\n",
    "\n",
    "random.shuffle(train_data)\n",
    "random.shuffle(test_data)"
   ]
  },
  {
   "cell_type": "markdown",
   "metadata": {},
   "source": [
    "## 分词\n",
    "\n",
    "接下来我们对每条评论做分词，从而得到分好词的评论。这里使用最简单的方法：基于空格进行分词。我们将在本节练习中探究其他的分词方法。"
   ]
  },
  {
   "cell_type": "code",
   "execution_count": 4,
   "metadata": {
    "attributes": {
     "classes": [],
     "id": "",
     "n": "4"
    }
   },
   "outputs": [],
   "source": [
    "def tokenizer(text):\n",
    "    return [tok.lower() for tok in text.split(' ')]\n",
    "\n",
    "train_tokenized = []\n",
    "for review, score in train_data:\n",
    "    train_tokenized.append(tokenizer(review))\n",
    "test_tokenized = []\n",
    "for review, score in test_data:\n",
    "    test_tokenized.append(tokenizer(review))"
   ]
  },
  {
   "cell_type": "markdown",
   "metadata": {},
   "source": [
    "## 创建词典\n",
    "\n",
    "现在，我们可以根据分好词的训练数据集来创建词典了。这里我们设置了特殊符号“&lt;unk&gt;”（unknown）。它将表示一切不存在于训练数据集词典中的词。"
   ]
  },
  {
   "cell_type": "code",
   "execution_count": 5,
   "metadata": {
    "attributes": {
     "classes": [],
     "id": "",
     "n": "5"
    }
   },
   "outputs": [],
   "source": [
    "token_counter = collections.Counter()\n",
    "def count_token(train_tokenized):\n",
    "    for sample in train_tokenized:\n",
    "        for token in sample:\n",
    "            if token not in token_counter:\n",
    "                token_counter[token] = 1\n",
    "            else:\n",
    "                token_counter[token] += 1\n",
    "\n",
    "count_token(train_tokenized)\n",
    "vocab = text.vocab.Vocabulary(token_counter, unknown_token='<unk>',\n",
    "                              reserved_tokens=None)"
   ]
  },
  {
   "cell_type": "markdown",
   "metadata": {},
   "source": [
    "## 预处理数据\n",
    "\n",
    "下面，我们继续对数据进行预处理。每个不定长的评论将被特殊符号 `PAD` 补成长度为 `maxlen` 的序列，并用 NDArray 表示。"
   ]
  },
  {
   "cell_type": "code",
   "execution_count": 6,
   "metadata": {
    "attributes": {
     "classes": [],
     "id": "",
     "n": "6"
    }
   },
   "outputs": [],
   "source": [
    "def encode_samples(tokenized_samples, vocab):\n",
    "    features = []\n",
    "    for sample in tokenized_samples:\n",
    "        feature = []\n",
    "        for token in sample:\n",
    "            if token in vocab.token_to_idx:\n",
    "                feature.append(vocab.token_to_idx[token])\n",
    "            else:\n",
    "                feature.append(0)\n",
    "        features.append(feature)         \n",
    "    return features\n",
    "\n",
    "def pad_samples(features, maxlen=500, PAD=0):\n",
    "    padded_features = []\n",
    "    for feature in features:\n",
    "        if len(feature) > maxlen:\n",
    "            padded_feature = feature[:maxlen]\n",
    "        else:\n",
    "            padded_feature = feature\n",
    "            # 添加 PAD 符号使每个序列等长（长度为 maxlen ）。\n",
    "            while len(padded_feature) < maxlen:\n",
    "                padded_feature.append(PAD)\n",
    "        padded_features.append(padded_feature)\n",
    "    return padded_features\n",
    "\n",
    "ctx = gb.try_gpu()\n",
    "train_features = encode_samples(train_tokenized, vocab)\n",
    "test_features = encode_samples(test_tokenized, vocab)\n",
    "train_features = nd.array(pad_samples(train_features, 500, 0), ctx=ctx)\n",
    "test_features = nd.array(pad_samples(test_features, 500, 0), ctx=ctx)\n",
    "train_labels = nd.array([score for _, score in train_data], ctx=ctx)\n",
    "test_labels = nd.array([score for _, score in test_data], ctx=ctx)"
   ]
  },
  {
   "cell_type": "markdown",
   "metadata": {},
   "source": [
    "## 加载预训练的词向量\n",
    "\n",
    "这里，我们为词典 `vocab` 中的每个词加载 GloVe 词向量（每个词向量长度为 100）。稍后，我们将用这些词向量作为评论中每个词的特征向量。"
   ]
  },
  {
   "cell_type": "code",
   "execution_count": 7,
   "metadata": {
    "attributes": {
     "classes": [],
     "id": "",
     "n": "11"
    }
   },
   "outputs": [],
   "source": [
    "glove_embedding = text.embedding.create(\n",
    "    'glove', pretrained_file_name='glove.6B.100d.txt', vocabulary=vocab)"
   ]
  },
  {
   "cell_type": "markdown",
   "metadata": {},
   "source": [
    "## 定义模型\n",
    "\n",
    "下面我们根据模型设计里的描述定义情感分类模型。其中的 `Embedding` 实例即嵌入层，`LSTM` 实例即对句子编码信息的隐藏层，`Dense` 实例即生成分类结果的输出层。"
   ]
  },
  {
   "cell_type": "code",
   "execution_count": 8,
   "metadata": {},
   "outputs": [],
   "source": [
    "class SentimentNet(nn.Block):\n",
    "    def __init__(self, vocab, embed_size, num_hiddens, num_layers,\n",
    "                 bidirectional, **kwargs):\n",
    "        super(SentimentNet, self).__init__(**kwargs)\n",
    "        with self.name_scope():\n",
    "            self.embedding = nn.Embedding(len(vocab), embed_size)\n",
    "            self.encoder = rnn.LSTM(num_hiddens, num_layers=num_layers,\n",
    "                                    bidirectional=bidirectional,\n",
    "                                    input_size=embed_size)\n",
    "            self.decoder = nn.Dense(num_outputs, flatten=False)\n",
    "\n",
    "    def forward(self, inputs):\n",
    "        embeddings = self.embedding(inputs)\n",
    "        states = self.encoder(embeddings)\n",
    "        # 连结初始时间步和最终时间步的隐藏状态。\n",
    "        encoding = nd.concat(states[0], states[-1])\n",
    "        outputs = self.decoder(encoding)\n",
    "        return outputs"
   ]
  },
  {
   "cell_type": "markdown",
   "metadata": {},
   "source": [
    "由于情感分类的训练数据集并不是很大，为应对过拟合现象，我们将直接使用在更大规模语料上预训练的词向量作为每个词的特征向量。在训练中，我们不再更新这些词向量，即不再迭代模型嵌入层中的参数。"
   ]
  },
  {
   "cell_type": "code",
   "execution_count": 9,
   "metadata": {},
   "outputs": [],
   "source": [
    "num_outputs = 2\n",
    "lr = 0.1\n",
    "num_epochs = 1\n",
    "batch_size = 10\n",
    "embed_size = 100\n",
    "num_hiddens = 100\n",
    "num_layers = 2\n",
    "bidirectional = True\n",
    "    \n",
    "net = SentimentNet(vocab, embed_size, num_hiddens, num_layers, bidirectional)\n",
    "net.initialize(init.Xavier(), ctx=ctx)\n",
    "# 设置 embedding 层的 weight 为预训练的词向量。\n",
    "net.embedding.weight.set_data(glove_embedding.idx_to_vec.as_in_context(ctx))\n",
    "# 训练中不更新词向量（net.embedding 中的模型参数）。\n",
    "net.embedding.collect_params().setattr('grad_req', 'null')\n",
    "trainer = gluon.Trainer(net.collect_params(), 'sgd', {'learning_rate': lr})\n",
    "loss = gloss.SoftmaxCrossEntropyLoss()"
   ]
  },
  {
   "cell_type": "markdown",
   "metadata": {},
   "source": [
    "## 训练并评价模型\n",
    "\n",
    "在实验中，我们使用准确率作为评价模型的指标。"
   ]
  },
  {
   "cell_type": "code",
   "execution_count": 10,
   "metadata": {
    "attributes": {
     "classes": [],
     "id": "",
     "n": "13"
    }
   },
   "outputs": [],
   "source": [
    "def eval_model(features, labels):\n",
    "    l_sum = 0\n",
    "    l_n = 0\n",
    "    accuracy = metric.Accuracy()\n",
    "    for i in range(features.shape[0] // batch_size):\n",
    "        X = features[i*batch_size : (i+1)*batch_size].as_in_context(ctx).T\n",
    "        y = labels[i*batch_size :(i+1)*batch_size].as_in_context(ctx).T\n",
    "        output = net(X)\n",
    "        l = loss(output, y)\n",
    "        l_sum += l.sum().asscalar()\n",
    "        l_n += l.size\n",
    "        accuracy.update(preds=nd.argmax(output, axis=1), labels=y)\n",
    "    return l_sum / l_n, accuracy.get()[1]"
   ]
  },
  {
   "cell_type": "markdown",
   "metadata": {},
   "source": [
    "下面开始训练模型。"
   ]
  },
  {
   "cell_type": "code",
   "execution_count": 11,
   "metadata": {
    "attributes": {
     "classes": [],
     "id": "",
     "n": "14"
    }
   },
   "outputs": [
    {
     "name": "stdout",
     "output_type": "stream",
     "text": [
      "epoch 1, train loss 0.693671, acc 0.40; test loss 0.691627, acc 0.50\n"
     ]
    }
   ],
   "source": [
    "for epoch in range(1, num_epochs + 1):\n",
    "    for i in range(train_features.shape[0] // batch_size):\n",
    "        X = train_features[i*batch_size : (i+1)*batch_size].as_in_context(\n",
    "            ctx).T\n",
    "        y = train_labels[i*batch_size : (i+1)*batch_size].as_in_context(\n",
    "            ctx).T\n",
    "        with autograd.record():\n",
    "            l = loss(net(X), y)\n",
    "        l.backward()\n",
    "        trainer.step(batch_size)\n",
    "    train_loss, train_acc = eval_model(train_features, train_labels)\n",
    "    test_loss, test_acc = eval_model(test_features, test_labels)\n",
    "    print('epoch %d, train loss %.6f, acc %.2f; test loss %.6f, acc %.2f' \n",
    "          % (epoch, train_loss, train_acc, test_loss, test_acc))"
   ]
  },
  {
   "cell_type": "markdown",
   "metadata": {},
   "source": [
    "下面我们试着分析一个简单的句子的情感（1 和 0 分别代表正面和负面）。为了在更复杂的句子上得到较准确的分类，我们需要使用完整数据集训练模型，并适当增大训练周期。"
   ]
  },
  {
   "cell_type": "code",
   "execution_count": 12,
   "metadata": {},
   "outputs": [
    {
     "data": {
      "text/plain": [
       "1.0"
      ]
     },
     "execution_count": 12,
     "metadata": {},
     "output_type": "execute_result"
    }
   ],
   "source": [
    "review = ['this', 'movie', 'is', 'great']\n",
    "nd.argmax(net(nd.reshape(\n",
    "    nd.array([vocab.token_to_idx[token] for token in review], ctx=ctx), \n",
    "    shape=(-1, 1))), axis=1).asscalar()"
   ]
  },
  {
   "cell_type": "markdown",
   "metadata": {},
   "source": [
    "## 小结\n",
    "\n",
    "* 我们可以应用预训练的词向量和循环神经网络对文本进行情感分析。\n",
    "\n",
    "\n",
    "## 练习\n",
    "\n",
    "* 使用 IMDb 完整数据集，并把迭代周期改为 3。你的模型能在训练和测试数据集上得到怎样的准确率？通过调节超参数，你能进一步提升分类准确率吗？\n",
    "\n",
    "* 使用更大的预训练词向量，例如 300 维的 GloVe 词向量，能否提升分类准确率？\n",
    "\n",
    "* 使用 spacy 分词工具，能否提升分类准确率？。你需要安装 spacy：`pip install spacy`，并且安装英文包：`python -m spacy download en`。在代码中，先导入 spacy：`import spacy`。然后加载 spacy 英文包：`spacy_en = spacy.load('en')`。最后定义函数：`def tokenizer(text): return [tok.text for tok in spacy_en.tokenizer(text)]` 替换原来的基于空格分词的 `tokenizer` 函数。需要注意的是，GloVe 的词向量对于名词词组的存储方式是用“-”连接各个单词，例如词组“new york”在 GloVe 中的表示为“new-york”。而使用 spacy 分词之后“new york”的存储可能是“new york”。\n",
    "\n",
    "* 通过上面三种方法，你能使模型在测试集上的准确率提高到 0.85 以上吗？\n",
    "\n",
    "\n",
    "\n",
    "\n",
    "## 扫码直达 [ 讨论区 ](https://discuss.gluon.ai/t/topic/6155)\n",
    "\n",
    "\n",
    "![](../img/qr_sentiment-analysis.svg)\n",
    "\n",
    "\n",
    "## 参考文献\n",
    "\n",
    "[1] Maas, A. L., Daly, R. E., Pham, P. T., Huang, D., Ng, A. Y., & Potts, C. (2011, June). Learning word vectors for sentiment analysis. In Proceedings of the 49th annual meeting of the association for computational linguistics: Human language technologies-volume 1 (pp. 142-150). Association for Computational Linguistics."
   ]
  }
 ],
 "metadata": {
  "language_info": {
   "name": "python"
  }
 },
 "nbformat": 4,
 "nbformat_minor": 2
}