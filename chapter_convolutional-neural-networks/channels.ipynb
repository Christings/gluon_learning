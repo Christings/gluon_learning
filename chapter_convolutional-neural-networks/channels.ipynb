{
 "cells": [
  {
   "cell_type": "markdown",
   "metadata": {},
   "source": [
    "# 多输入和输出通道\n",
    "\n",
    "前面小节里我们用到的输入和输出都是二维数组，但实际数据的维度经常更高。例如彩色图片在高宽两个维度外还有 RGB 这三个通道。假设它的高和宽分别是 $h$ 和 $w$（像素），那么内存中它可以被表示成一个 $3\\times h\\times w$ 的多维数组。我们将大小为 3 的这一维称之为通道（channel）。这一节我们将介绍卷积层是如何处理多输入通道，和以及计算多通道输出。\n",
    "\n",
    "## 多输入通道\n",
    "\n",
    "假设输入通道数是 $c_i$，且卷积核窗口为 $k_h\\times k_w$。当 $c_i=1$ 时，我们知道卷积核就是一个 $k_h\\times k_w$ 数组。当其大于 1 时，我们将会为每个输入通道分配一个单独的 $k_h\\times k_w$ 核数组。我们将这些数组合并起来，将得到一个 $c_i\\times k_h\\times k_w$ 形状的卷积核。然后在每个通道里对相应的输入矩阵和核矩阵做相关计算，然后再将通道之间的结果相加得到最终结果。下图展示了输入通道是 2 的一个例子。\n",
    "\n",
    "![ 输入通道为 2 的二维相关计算。](../img/conv_multi_in.svg)\n",
    "\n",
    "接下来我们实现处理多输入通道的相关运算符。首先我们将前面小节实现的 `corr2d` 复制过来。"
   ]
  },
  {
   "cell_type": "code",
   "execution_count": 1,
   "metadata": {
    "attributes": {
     "classes": [],
     "id": "",
     "n": "2"
    }
   },
   "outputs": [],
   "source": [
    "from mxnet import nd, autograd\n",
    "from mxnet.gluon import nn\n",
    "\n",
    "def corr2d(X, K):\n",
    "    n, m = K.shape\n",
    "    Y = nd.zeros((X.shape[0] - n + 1, X.shape[1] - m + 1))\n",
    "    for i in range(Y.shape[0]):\n",
    "        for j in range(Y.shape[1]):\n",
    "            Y[i, j] = (X[i : i + n, j : j + m] * K).sum()\n",
    "    return Y"
   ]
  },
  {
   "cell_type": "markdown",
   "metadata": {},
   "source": [
    "为了实现多输入通道的版本，我们只需要对每个通道做相关计算，然后通过 `nd.add_n` 来进行累加。"
   ]
  },
  {
   "cell_type": "code",
   "execution_count": 2,
   "metadata": {
    "attributes": {
     "classes": [],
     "id": "",
     "n": "14"
    }
   },
   "outputs": [],
   "source": [
    "def corr2d_multi_in(X, K):\n",
    "    # 我们首先沿着 X 和 K 的第 0 维（通道维）遍历。然后使用 * 将结果列表 (list) 变成\n",
    "    # add_n 的位置参数（positional argument）来进行相加。\n",
    "    return nd.add_n(*[corr2d(x, k) for x, k in zip(X, K)])"
   ]
  },
  {
   "cell_type": "markdown",
   "metadata": {},
   "source": [
    "我们构造上图中的输入数据来验证实现的正确性。"
   ]
  },
  {
   "cell_type": "code",
   "execution_count": 3,
   "metadata": {
    "attributes": {
     "classes": [],
     "id": "",
     "n": "33"
    }
   },
   "outputs": [
    {
     "data": {
      "text/plain": [
       "\n",
       "[[  56.   72.]\n",
       " [ 104.  120.]]\n",
       "<NDArray 2x2 @cpu(0)>"
      ]
     },
     "execution_count": 3,
     "metadata": {},
     "output_type": "execute_result"
    }
   ],
   "source": [
    "X = nd.array([[[0, 1, 2], [3, 4, 5], [6, 7, 8]],\n",
    "              [[1, 2, 3], [4, 5, 6], [7, 8, 9]]])\n",
    "K = nd.array([[[0, 1], [2, 3]], [[1, 2], [3, 4]]])\n",
    "\n",
    "corr2d_multi_in(X, K)"
   ]
  },
  {
   "cell_type": "markdown",
   "metadata": {},
   "source": [
    "## 多输出通道\n",
    "\n",
    "在多输入通道下，由于我们对各个通道结果做了累加，因此不论输入通道数是多少，输出通道总是为 1。如果想得到 $c_o>1$ 通道的输出，我们为每个输出通道创建单独的 $c_i\\times k_h\\times k_w$ 形状的核数组。将它们合并起来，那么卷积核的形状是 $c_o\\times c_i\\times k_h\\times k_w$。在计算的时候，每个输出通道的数据由整个输入数据和对应的核矩阵计算得来。其实现见下面代码。"
   ]
  },
  {
   "cell_type": "code",
   "execution_count": 4,
   "metadata": {
    "attributes": {
     "classes": [],
     "id": "",
     "n": "30"
    }
   },
   "outputs": [],
   "source": [
    "def corr2d_multi_in_out(X, K):\n",
    "    # 对 K 的第 0 维遍历，每次同输入 X 做相关计算。所有结果使用 nd.stack 合并在一起。\n",
    "    return nd.stack(*[corr2d_multi_in(X, k) for k in K])"
   ]
  },
  {
   "cell_type": "markdown",
   "metadata": {},
   "source": [
    "我们将三维核矩阵 `K` 同 `K+1` 和 `K+2` 拼在一起来构造一个输出通道为 3 的四维卷积核。"
   ]
  },
  {
   "cell_type": "code",
   "execution_count": 5,
   "metadata": {
    "attributes": {
     "classes": [],
     "id": "",
     "n": "34"
    }
   },
   "outputs": [
    {
     "data": {
      "text/plain": [
       "(3, 2, 2, 2)"
      ]
     },
     "execution_count": 5,
     "metadata": {},
     "output_type": "execute_result"
    }
   ],
   "source": [
    "K = nd.stack(K, K + 1, K + 2)\n",
    "K.shape"
   ]
  },
  {
   "cell_type": "markdown",
   "metadata": {},
   "source": [
    "然后计算它的输出。可以发现计算结果有三个通道，其中第一个通道跟上例中输出一致。"
   ]
  },
  {
   "cell_type": "code",
   "execution_count": 6,
   "metadata": {
    "attributes": {
     "classes": [],
     "id": "",
     "n": "35"
    }
   },
   "outputs": [
    {
     "data": {
      "text/plain": [
       "\n",
       "[[[  56.   72.]\n",
       "  [ 104.  120.]]\n",
       "\n",
       " [[  76.  100.]\n",
       "  [ 148.  172.]]\n",
       "\n",
       " [[  96.  128.]\n",
       "  [ 192.  224.]]]\n",
       "<NDArray 3x2x2 @cpu(0)>"
      ]
     },
     "execution_count": 6,
     "metadata": {},
     "output_type": "execute_result"
    }
   ],
   "source": [
    "corr2d_multi_in_out(X, K)"
   ]
  },
  {
   "cell_type": "markdown",
   "metadata": {},
   "source": [
    "## $1\\times 1$ 卷积层\n",
    "\n",
    "最后我们讨论卷积窗口为 $1\\times 1$（$k_h=k_w=1$）的多通道卷积层。因为使用了最小窗口，它失去了卷积层可以识别高宽维上相邻元素构成的模式的功能，它的主要计算则是在通道维上。下图展示了输入通道为 3 和输出通道为 2 的情况。输出中的每个元素来自输入中对应位置的元素在不同通道之间的按权重累加。\n",
    "\n",
    "![ 多输入通道的 $1\\times 1$ 卷积层 ](../img/conv_1x1.svg)\n",
    "\n",
    "假设我们将通道维当做是特征维，而高宽中的元素则当成数据点。那么 $1\\times 1$ 卷积层则等价于一个全连接层。下面代码里我们将输入和卷积核变形成二维数组，然后使用矩阵乘法来计算输出，之后再变形回我们需要的样子。"
   ]
  },
  {
   "cell_type": "code",
   "execution_count": 7,
   "metadata": {},
   "outputs": [],
   "source": [
    "def corr2d_multi_in_out_1x1(X, K):\n",
    "    c_i, h, w = X.shape\n",
    "    c_o = K.shape[0]\n",
    "    X = X.reshape((c_i, h * w))\n",
    "    K = K.reshape((c_o, c_i))\n",
    "    Y = nd.dot(K, X)\n",
    "    return Y.reshape((c_o, h, w))"
   ]
  },
  {
   "cell_type": "markdown",
   "metadata": {},
   "source": [
    "生成一组随机数来验证实现的正确性。"
   ]
  },
  {
   "cell_type": "code",
   "execution_count": 8,
   "metadata": {},
   "outputs": [
    {
     "data": {
      "text/plain": [
       "True"
      ]
     },
     "execution_count": 8,
     "metadata": {},
     "output_type": "execute_result"
    }
   ],
   "source": [
    "X = nd.random.uniform(shape=(3, 3, 3))\n",
    "K = nd.random.uniform(shape=(2, 3, 1, 1))\n",
    "\n",
    "Y1 = corr2d_multi_in_out_1x1(X, K)\n",
    "Y2 = corr2d_multi_in_out(X, K)\n",
    "\n",
    "(Y1-Y2).norm().asscalar() < 1e-6"
   ]
  },
  {
   "cell_type": "markdown",
   "metadata": {},
   "source": [
    "在之后的模型里我们将会看到 $1\\times 1$ 卷积层是如何当做保持高宽维形状的全连接层使用，其作用是通过调整网络层之间的通道数来控制模型复杂度。\n",
    "\n",
    "## 小结\n",
    "\n",
    "- 使用多通道可以极大拓展卷积层的模型参数。\n",
    "- $1\\times 1$ 卷积层通常用来调节网络层之间的通道数。\n",
    "\n",
    "## 练习\n",
    "\n",
    "- 假设输入大小为 $c_i\\times h\\times w$，且使用 $c_o\\times c_i\\times k_h\\times k_w$ 卷积核，填充为 $(p_h, p_w)$ 以及步幅为 $(s_h, s_w)$，那么这个卷积层的前向计算需要多少次乘法，多少次加法？\n",
    "- 翻倍输入通道 $c_i$ 和输出通道 $c_o$ 会增加多少倍计算？翻倍填充呢？\n",
    "- 如果使用 $k_h=k_w=1$，能降低多少倍计算？\n",
    "- 例子中 `Y1` 和 `Y2` 结果完全一致吗？原因是什么？\n",
    "- 对于非 $1\\times 1$ 卷积层，如何也将其表示成一个矩阵乘法。\n",
    "\n",
    "\n",
    "## 扫码直达 [ 讨论区 ](https://discuss.gluon.ai/t/topic/6405)\n",
    "\n",
    "![](../img/qr_channels.svg)"
   ]
  }
 ],
 "metadata": {
  "language_info": {
   "name": "python"
  }
 },
 "nbformat": 4,
 "nbformat_minor": 2
}