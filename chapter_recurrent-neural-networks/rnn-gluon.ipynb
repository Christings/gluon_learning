{
 "cells": [
  {
   "cell_type": "markdown",
   "metadata": {},
   "source": [
    "# 循环神经网络的 Gluon 实现\n",
    "\n",
    "本节介绍如何使用 Gluon 训练循环神经网络。\n",
    "\n",
    "\n",
    "## Penn Tree Bank 数据集\n",
    "\n",
    "我们以英文单词为单元来训练基于循环神经网络的语言模型。Penn Tree Bank（PTB）是一个标准的文本序列数据集 [1]。它包括训练集、验证集和测试集 。\n",
    "\n",
    "首先导入实验所需的包或模块，并抽取数据集。"
   ]
  },
  {
   "cell_type": "code",
   "execution_count": 1,
   "metadata": {
    "attributes": {
     "classes": [],
     "id": "",
     "n": "1"
    }
   },
   "outputs": [],
   "source": [
    "import sys\n",
    "sys.path.append('..')\n",
    "import gluonbook as gb\n",
    "import math\n",
    "import mxnet as mx\n",
    "from mxnet import autograd, gluon, init, nd\n",
    "from mxnet.gluon import loss as gloss, nn, rnn, utils as gutils\n",
    "import numpy as np\n",
    "import time\n",
    "import zipfile\n",
    "\n",
    "with zipfile.ZipFile('../data/ptb.zip', 'r') as zin:\n",
    "    zin.extractall('../data/')"
   ]
  },
  {
   "cell_type": "markdown",
   "metadata": {},
   "source": [
    "## 建立词语索引\n",
    "\n",
    "下面定义了 `Dictionary` 类来映射词语和整数索引。"
   ]
  },
  {
   "cell_type": "code",
   "execution_count": 2,
   "metadata": {
    "attributes": {
     "classes": [],
     "id": "",
     "n": "2"
    }
   },
   "outputs": [],
   "source": [
    "class Dictionary(object):\n",
    "    def __init__(self):\n",
    "        self.word_to_idx = {}\n",
    "        self.idx_to_word = []\n",
    "\n",
    "    def add_word(self, word):\n",
    "        if word not in self.word_to_idx:\n",
    "            self.idx_to_word.append(word)\n",
    "            self.word_to_idx[word] = len(self.idx_to_word) - 1\n",
    "        return self.word_to_idx[word]\n",
    "\n",
    "    def __len__(self):\n",
    "        return len(self.idx_to_word)"
   ]
  },
  {
   "cell_type": "markdown",
   "metadata": {},
   "source": [
    "以下的 `Corpus` 类按照读取的文本数据集建立映射词语和索引的词典，并将文本转换成词语索引的序列。这样，每个文本数据集就变成了 NDArray 格式的整数序列。"
   ]
  },
  {
   "cell_type": "code",
   "execution_count": 3,
   "metadata": {
    "attributes": {
     "classes": [],
     "id": "",
     "n": "3"
    }
   },
   "outputs": [],
   "source": [
    "class Corpus(object):\n",
    "    def __init__(self, path):\n",
    "        self.dictionary = Dictionary()\n",
    "        self.train = self.tokenize(path + 'train.txt')\n",
    "        self.valid = self.tokenize(path + 'valid.txt')\n",
    "        self.test = self.tokenize(path + 'test.txt')\n",
    "\n",
    "    def tokenize(self, path):\n",
    "        # 将词语添加至词典。\n",
    "        with open(path, 'r') as f:\n",
    "            num_words = 0\n",
    "            for line in f:\n",
    "                words = line.split() + ['<eos>']\n",
    "                num_words += len(words)\n",
    "                for word in words:\n",
    "                    self.dictionary.add_word(word)\n",
    "        # 将文本转换成词语索引的序列（ NDArray 格式）。\n",
    "        with open(path, 'r') as f:\n",
    "            indices = np.zeros((num_words,), dtype='int32')\n",
    "            idx = 0\n",
    "            for line in f:\n",
    "                words = line.split() + ['<eos>']\n",
    "                for word in words:\n",
    "                    indices[idx] = self.dictionary.word_to_idx[word]\n",
    "                    idx += 1\n",
    "        return nd.array(indices, dtype='int32')"
   ]
  },
  {
   "cell_type": "markdown",
   "metadata": {},
   "source": [
    "看一下词典的大小。"
   ]
  },
  {
   "cell_type": "code",
   "execution_count": 4,
   "metadata": {
    "attributes": {
     "classes": [],
     "id": "",
     "n": "4"
    }
   },
   "outputs": [
    {
     "data": {
      "text/plain": [
       "10000"
      ]
     },
     "execution_count": 4,
     "metadata": {},
     "output_type": "execute_result"
    }
   ],
   "source": [
    "data = '../data/ptb/ptb.'\n",
    "corpus = Corpus(data)\n",
    "vocab_size = len(corpus.dictionary)\n",
    "vocab_size"
   ]
  },
  {
   "cell_type": "markdown",
   "metadata": {},
   "source": [
    "## 定义循环神经网络模型库\n",
    "\n",
    "我们可以定义一个循环神经网络模型库。这样我们就可以使用以 ReLU 或 tanh 函数为激活函数的循环神经网络，以及长短期记忆和门控循环单元。和本章中其他实验不同，这里使用了 Embedding 实例将每个词索引变换成一个长度为 `embed_size` 的词向量。这些词向量实际上也是模型参数。在随机初始化后，它们会在模型训练结束时被学到。此外，我们使用了丢弃法来应对过拟合。\n",
    "\n",
    "这里的 Embedding 实例也叫嵌入层。我们会在“自然语言处理”篇章介绍如何用在大规模语料上预训练的词向量初始化嵌入层参数。"
   ]
  },
  {
   "cell_type": "code",
   "execution_count": 5,
   "metadata": {
    "attributes": {
     "classes": [],
     "id": "",
     "n": "5"
    }
   },
   "outputs": [],
   "source": [
    "class RNNModel(nn.Block):\n",
    "    def __init__(self, mode, vocab_size, embed_size, num_hiddens,\n",
    "                 num_layers, drop_prob=0.5, **kwargs):\n",
    "        super(RNNModel, self).__init__(**kwargs)\n",
    "        with self.name_scope():\n",
    "            self.dropout = nn.Dropout(drop_prob)\n",
    "            # 将词索引变换成词向量。这些词向量也是模型参数。\n",
    "            self.embedding = nn.Embedding(\n",
    "                vocab_size, embed_size, weight_initializer=init.Uniform(0.1))\n",
    "            if mode == 'rnn_relu':\n",
    "                self.rnn = rnn.RNN(num_hiddens, num_layers, activation='relu',\n",
    "                                   dropout=drop_prob, input_size=embed_size)\n",
    "            elif mode == 'rnn_tanh':\n",
    "                self.rnn = rnn.RNN(num_hiddens, num_layers, activation='tanh',\n",
    "                                   dropout=drop_prob, input_size=embed_size)\n",
    "            elif mode == 'lstm':\n",
    "                self.rnn = rnn.LSTM(num_hiddens, num_layers,\n",
    "                                    dropout=drop_prob, input_size=embed_size)\n",
    "            elif mode == 'gru':\n",
    "                self.rnn = rnn.GRU(num_hiddens, num_layers, dropout=drop_prob,\n",
    "                                   input_size=embed_size)\n",
    "            else:\n",
    "                raise ValueError('Invalid mode %s. Options are rnn_relu, '\n",
    "                                 'rnn_tanh, lstm, and gru' % mode)\n",
    "            self.dense = nn.Dense(vocab_size, in_units=num_hiddens)\n",
    "            self.num_hiddens = num_hiddens\n",
    "\n",
    "    def forward(self, inputs, state):\n",
    "        embedding = self.dropout(self.embedding(inputs))\n",
    "        output, state = self.rnn(embedding, state)\n",
    "        output = self.dropout(output)\n",
    "        output = self.dense(output.reshape((-1, self.num_hiddens)))\n",
    "        return output, state\n",
    "\n",
    "    def begin_state(self, *args, **kwargs):\n",
    "        return self.rnn.begin_state(*args, **kwargs)"
   ]
  },
  {
   "cell_type": "markdown",
   "metadata": {},
   "source": [
    "## 设置超参数\n",
    "\n",
    "我们接着设置超参数。这里选择使用以 ReLU 为激活函数的循环神经网络。它包含 2 个隐藏层。为了得到更好的实验结果，这些超参数还需要重新设置。"
   ]
  },
  {
   "cell_type": "code",
   "execution_count": 6,
   "metadata": {
    "attributes": {
     "classes": [],
     "id": "",
     "n": "6"
    }
   },
   "outputs": [],
   "source": [
    "model_name = 'rnn_relu'\n",
    "embed_size = 100\n",
    "num_hiddens = 100\n",
    "num_layers = 2\n",
    "lr = 0.5\n",
    "clipping_theta = 0.2\n",
    "num_epochs = 2\n",
    "batch_size = 32\n",
    "num_steps = 5\n",
    "drop_prob = 0.2\n",
    "eval_period = 1000\n",
    "\n",
    "ctx = gb.try_gpu()\n",
    "model = RNNModel(model_name, vocab_size, embed_size, num_hiddens, num_layers,\n",
    "                 drop_prob)\n",
    "model.initialize(init.Xavier(), ctx=ctx)\n",
    "trainer = gluon.Trainer(model.collect_params(), 'sgd',\n",
    "                        {'learning_rate': lr, 'momentum': 0, 'wd': 0})\n",
    "loss = gloss.SoftmaxCrossEntropyLoss()"
   ]
  },
  {
   "cell_type": "markdown",
   "metadata": {},
   "source": [
    "## 相邻采样\n",
    "\n",
    "我们将在实验中使用相邻采样。"
   ]
  },
  {
   "cell_type": "code",
   "execution_count": 7,
   "metadata": {
    "attributes": {
     "classes": [],
     "id": "",
     "n": "7"
    }
   },
   "outputs": [],
   "source": [
    "def batchify(data, batch_size):\n",
    "    num_batches = data.shape[0] // batch_size\n",
    "    data = data[: num_batches * batch_size]\n",
    "    data = data.reshape((batch_size, num_batches)).T\n",
    "    return data\n",
    "\n",
    "train_data = batchify(corpus.train, batch_size).as_in_context(ctx)\n",
    "val_data = batchify(corpus.valid, batch_size).as_in_context(ctx)\n",
    "test_data = batchify(corpus.test, batch_size).as_in_context(ctx)\n",
    "\n",
    "def get_batch(source, i):\n",
    "    seq_len = min(num_steps, source.shape[0] - 1 - i)\n",
    "    X = source[i : i + seq_len]\n",
    "    Y = source[i + 1 : i + 1 + seq_len]\n",
    "    return X, Y.reshape((-1,))"
   ]
  },
  {
   "cell_type": "markdown",
   "metadata": {},
   "source": [
    "[“循环神经网络”](rnn.md) 一节里已经解释了，相邻采样应在每次读取小批量前将隐藏状态从计算图分离出来。"
   ]
  },
  {
   "cell_type": "code",
   "execution_count": 8,
   "metadata": {
    "attributes": {
     "classes": [],
     "id": "",
     "n": "8"
    }
   },
   "outputs": [],
   "source": [
    "def detach(state):\n",
    "    if isinstance(state, (tuple, list)):\n",
    "        state = [i.detach() for i in state]\n",
    "    else:\n",
    "        state = state.detach()\n",
    "    return state"
   ]
  },
  {
   "cell_type": "markdown",
   "metadata": {},
   "source": [
    "## 训练和评价模型\n",
    "\n",
    "以下定义了模型评价函数。"
   ]
  },
  {
   "cell_type": "code",
   "execution_count": 9,
   "metadata": {
    "attributes": {
     "classes": [],
     "id": "",
     "n": "9"
    }
   },
   "outputs": [],
   "source": [
    "def eval_rnn(data_source):\n",
    "    l_sum = nd.array([0], ctx=ctx)\n",
    "    n = 0\n",
    "    state = model.begin_state(func=nd.zeros, batch_size=batch_size, ctx=ctx)\n",
    "    for i in range(0, data_source.shape[0] - 1, num_steps):\n",
    "        X, y = get_batch(data_source, i)\n",
    "        output, state = model(X, state)\n",
    "        l = loss(output, y)\n",
    "        l_sum += l.sum()\n",
    "        n += l.size\n",
    "    return l_sum / n"
   ]
  },
  {
   "cell_type": "markdown",
   "metadata": {},
   "source": [
    "下面的 `train_rnn` 函数将训练模型并在每个迭代周期结束时评价模型在验证集上的表现。我们可以参考验证集上的结果调节超参数。"
   ]
  },
  {
   "cell_type": "code",
   "execution_count": 10,
   "metadata": {
    "attributes": {
     "classes": [],
     "id": "",
     "n": "10"
    }
   },
   "outputs": [],
   "source": [
    "def train_rnn():\n",
    "    for epoch in range(1, num_epochs + 1):\n",
    "        train_l_sum = nd.array([0], ctx=ctx)\n",
    "        start_time = time.time()\n",
    "        state = model.begin_state(func=nd.zeros, batch_size=batch_size,\n",
    "                                   ctx=ctx)\n",
    "        for batch_i, idx in enumerate(range(0, train_data.shape[0] - 1,\n",
    "                                          num_steps)):\n",
    "            X, y = get_batch(train_data, idx)\n",
    "            # 从计算图分离隐藏状态变量（包括 LSTM 的记忆细胞）。\n",
    "            state = detach(state)\n",
    "            with autograd.record():\n",
    "                output, state = model(X, state)\n",
    "                # l 形状：(batch_size * num_steps,)。\n",
    "                l = loss(output, y).sum() / (batch_size * num_steps)\n",
    "            l.backward()\n",
    "            grads = [p.grad(ctx) for p in model.collect_params().values()]\n",
    "            # 梯度裁剪。需要注意的是，这里的梯度是整个批量的梯度。\n",
    "            # 因此我们将 clipping_theta 乘以 num_steps 和 batch_size。\n",
    "            gutils.clip_global_norm(\n",
    "                grads, clipping_theta * num_steps * batch_size)\n",
    "            trainer.step(1)\n",
    "            train_l_sum += l\n",
    "            if batch_i % eval_period == 0 and batch_i > 0:\n",
    "                cur_l = train_l_sum / eval_period\n",
    "                print('epoch %d, batch %d, train loss %.2f, perplexity %.2f'\n",
    "                      % (epoch, batch_i, cur_l.asscalar(),\n",
    "                         cur_l.exp().asscalar()))\n",
    "                train_l_sum = nd.array([0], ctx=ctx)\n",
    "        val_l = eval_rnn(val_data)\n",
    "        print('epoch %d, time %.2fs, valid loss %.2f, perplexity %.2f'\n",
    "              % (epoch, time.time() - start_time, val_l.asscalar(),\n",
    "                 val_l.exp().asscalar()))"
   ]
  },
  {
   "cell_type": "markdown",
   "metadata": {},
   "source": [
    "训练完模型以后，我们就可以在测试集上评价模型了。"
   ]
  },
  {
   "cell_type": "code",
   "execution_count": 11,
   "metadata": {
    "attributes": {
     "classes": [],
     "id": "",
     "n": "11"
    }
   },
   "outputs": [
    {
     "name": "stdout",
     "output_type": "stream",
     "text": [
      "epoch 1, batch 1000, train loss 7.21, perplexity 1356.29\n"
     ]
    },
    {
     "name": "stdout",
     "output_type": "stream",
     "text": [
      "epoch 1, batch 2000, train loss 6.43, perplexity 618.23\n"
     ]
    },
    {
     "name": "stdout",
     "output_type": "stream",
     "text": [
      "epoch 1, batch 3000, train loss 6.22, perplexity 502.70\n"
     ]
    },
    {
     "name": "stdout",
     "output_type": "stream",
     "text": [
      "epoch 1, batch 4000, train loss 6.11, perplexity 450.60\n"
     ]
    },
    {
     "name": "stdout",
     "output_type": "stream",
     "text": [
      "epoch 1, batch 5000, train loss 6.03, perplexity 413.85\n"
     ]
    },
    {
     "name": "stdout",
     "output_type": "stream",
     "text": [
      "epoch 1, time 42.47s, valid loss 5.85, perplexity 348.87\n"
     ]
    },
    {
     "name": "stdout",
     "output_type": "stream",
     "text": [
      "epoch 2, batch 1000, train loss 5.94, perplexity 379.93\n"
     ]
    },
    {
     "name": "stdout",
     "output_type": "stream",
     "text": [
      "epoch 2, batch 2000, train loss 5.88, perplexity 358.65\n"
     ]
    },
    {
     "name": "stdout",
     "output_type": "stream",
     "text": [
      "epoch 2, batch 3000, train loss 5.80, perplexity 329.77\n"
     ]
    },
    {
     "name": "stdout",
     "output_type": "stream",
     "text": [
      "epoch 2, batch 4000, train loss 5.76, perplexity 316.76\n"
     ]
    },
    {
     "name": "stdout",
     "output_type": "stream",
     "text": [
      "epoch 2, batch 5000, train loss 5.71, perplexity 301.73\n"
     ]
    },
    {
     "name": "stdout",
     "output_type": "stream",
     "text": [
      "epoch 2, time 42.14s, valid loss 5.61, perplexity 273.55\n"
     ]
    },
    {
     "name": "stdout",
     "output_type": "stream",
     "text": [
      "test loss 5.57, perplexity 262.83\n"
     ]
    }
   ],
   "source": [
    "train_rnn()\n",
    "test_l = eval_rnn(test_data)\n",
    "print('test loss %.2f, perplexity %.2f'\n",
    "      % (test_l.asscalar(), test_l.exp().asscalar()))"
   ]
  },
  {
   "cell_type": "markdown",
   "metadata": {},
   "source": [
    "## 小结\n",
    "\n",
    "* 我们可以使用 Gluon 训练循环神经网络。它更简洁，例如无需我们手动实现含有多个隐藏层的复杂模型。\n",
    "* 在训练语言模型时，我们可以将词索引变换成词向量，并将这些词向量视为模型参数。\n",
    "\n",
    "\n",
    "## 练习\n",
    "\n",
    "* 回忆 [“模型参数的访问、初始化和共享”](../chapter_deep-learning-computation/parameters.md) 一节中有关共享模型参数的描述。将本节中 RNNModel 类里的 `self.dense` 的定义改为 `nn.Dense(vocab_size, in_units = num_hiddens, params=self.embedding.params)` 并运行本节实验。这里为什么可以共享词向量参数？有哪些好处？\n",
    "\n",
    "* 调调超参数，观察并分析对运行时间以及训练集、验证集和测试集上困惑度的影响。\n",
    "\n",
    "\n",
    "## 扫码直达 [ 讨论区 ](https://discuss.gluon.ai/t/topic/4089)\n",
    "\n",
    "![](../img/qr_rnn-gluon.svg)\n",
    "\n",
    "## 参考文献\n",
    "\n",
    "[1] Penn Tree Bank. https://catalog.ldc.upenn.edu/ldc99t42"
   ]
  }
 ],
 "metadata": {
  "language_info": {
   "name": "python"
  }
 },
 "nbformat": 4,
 "nbformat_minor": 2
}