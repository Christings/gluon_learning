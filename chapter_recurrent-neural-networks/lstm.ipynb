{
 "cells": [
  {
   "cell_type": "markdown",
   "metadata": {},
   "source": [
    "# 长短期记忆（LSTM）\n",
    "\n",
    "\n",
    "本节将介绍另一种常用的门控循环神经网络：长短期记忆（long short-term memory，简称 LSTM）[1]。它比门控循环单元的结构稍微更复杂一点。\n",
    "\n",
    "\n",
    "## 长短期记忆\n",
    "\n",
    "我们先介绍长短期记忆的设计。它修改了循环神经网络隐藏状态的计算方式，并引入了与隐藏状态形状相同的记忆细胞（某些文献把记忆细胞当成一种特殊的隐藏状态）。\n",
    "\n",
    "\n",
    "### 输入门、遗忘门和输出门\n",
    "\n",
    "\n",
    "假设隐藏单元个数为 $h$，给定时间步 $t$ 的小批量输入 $\\boldsymbol{X}_t \\in \\mathbb{R}^{n \\times d}$（样本数为 $n$，输入个数为 $d$）和上一时间步隐藏状态 $\\boldsymbol{H}_{t-1} \\in \\mathbb{R}^{n \\times h}$。\n",
    "时间步 $t$ 的输入门（input gate）$\\boldsymbol{I}_t \\in \\mathbb{R}^{n \\times h}$、遗忘门（forget gate）$\\boldsymbol{F}_t \\in \\mathbb{R}^{n \\times h}$ 和输出门（output gate）$\\boldsymbol{O}_t \\in \\mathbb{R}^{n \\times h}$ 分别计算如下：\n",
    "\n",
    "$$\n",
    "\\begin{aligned}\n",
    "\\boldsymbol{I}_t &= \\sigma(\\boldsymbol{X}_t \\boldsymbol{W}_{xi} + \\boldsymbol{H}_{t-1} \\boldsymbol{W}_{hi} + \\boldsymbol{b}_i),\\\\\n",
    "\\boldsymbol{F}_t &= \\sigma(\\boldsymbol{X}_t \\boldsymbol{W}_{xf} + \\boldsymbol{H}_{t-1} \\boldsymbol{W}_{hf} + \\boldsymbol{b}_f),\\\\\n",
    "\\boldsymbol{O}_t &= \\sigma(\\boldsymbol{X}_t \\boldsymbol{W}_{xo} + \\boldsymbol{H}_{t-1} \\boldsymbol{W}_{ho} + \\boldsymbol{b}_o).\n",
    "\\end{aligned}\n",
    "$$\n",
    "\n",
    "其中的 $\\boldsymbol{W}_{xi}, \\boldsymbol{W}_{xf}, \\boldsymbol{W}_{xo} \\in \\mathbb{R}^{d \\times h}$ 和 $\\boldsymbol{W}_{hi}, \\boldsymbol{W}_{hf}, \\boldsymbol{W}_{ho} \\in \\mathbb{R}^{h \\times h}$ 是权重参数，$\\boldsymbol{b}_i, \\boldsymbol{b}_f, \\boldsymbol{b}_o \\in \\mathbb{R}^{1 \\times h}$ 是偏移参数。激活函数 $\\sigma$ 是 sigmoid 函数。\n",
    "和门控循环单元中的重置门和更新门一样，这里的输入门、遗忘门和输出门中每个元素的值域都是 $[0, 1]$。\n",
    "\n",
    "\n",
    "### 候选记忆细胞\n",
    "\n",
    "和门控循环单元中的候选隐藏状态一样，时间步 $t$ 的的候选记忆细胞 $\\tilde{\\boldsymbol{C}}_t \\in \\mathbb{R}^{n \\times h}$ 也使用了值域在 $[-1, 1]$ 的 tanh 函数做激活函数。它的计算和不带门控的循环神经网络的隐藏状态的计算没什么区别：\n",
    "\n",
    "$$\\tilde{\\boldsymbol{C}}_t = \\text{tanh}(\\boldsymbol{X}_t \\boldsymbol{W}_{xc} + \\boldsymbol{H}_{t-1} \\boldsymbol{W}_{hc} + \\boldsymbol{b}_c).$$\n",
    "\n",
    "其中的 $\\boldsymbol{W}_{xc} \\in \\mathbb{R}^{d \\times h}$ 和 $\\boldsymbol{W}_{hc} \\in \\mathbb{R}^{h \\times h}$ 是权重参数，$\\boldsymbol{b}_c \\in \\mathbb{R}^{1 \\times h}$ 是偏移参数。\n",
    "\n",
    "\n",
    "### 记忆细胞\n",
    "\n",
    "我们可以通过元素值域在 $[0, 1]$ 的输入门、遗忘门和输出门来控制隐藏状态中信息的流动：这通常可以应用按元素乘法符 $\\odot$。当前时间步记忆细胞 $\\boldsymbol{C}_t \\in \\mathbb{R}^{n \\times h}$ 的计算组合了上一时间步记忆细胞和当前时间步候选记忆细胞的信息，并通过遗忘门和输入门来控制信息的流动：\n",
    "\n",
    "$$\\boldsymbol{C}_t = \\boldsymbol{F}_t \\odot \\boldsymbol{C}_{t-1} + \\boldsymbol{I}_t \\odot \\tilde{\\boldsymbol{C}}_t.$$\n",
    "\n",
    "需要注意的是，如果遗忘门一直近似 1 且输入门一直近似 0，过去的记忆细胞将一直通过时间保存并传递至当前时间步。\n",
    "这个设计可以应对循环神经网络中的梯度衰减问题，并更好地捕捉时序数据中间隔较大的依赖关系。\n",
    "\n",
    "\n",
    "### 隐藏状态\n",
    "\n",
    "有了记忆细胞以后，接下来我们还可以通过输出门来控制从记忆细胞到隐藏状态 $\\boldsymbol{H}_t \\in \\mathbb{R}^{n \\times h}$ 的信息的流动：\n",
    "\n",
    "$$\\boldsymbol{H}_t = \\boldsymbol{O}_t \\odot \\text{tanh}(\\boldsymbol{C}_t).$$\n",
    "\n",
    "这里的 tanh 函数确保隐藏状态元素值在 -1 到 1 之间。需要注意的是，当输出门近似 1，记忆细胞信息将传递到隐藏状态供输出层使用；当输出门近似 0，记忆细胞信息只自己保留。\n",
    "\n",
    "\n",
    "### 输出层\n",
    "\n",
    "在时间步 $t$，长短期记忆的输出层计算和之前描述的循环神经网络输出层计算一样：我们只需将该时刻的隐藏状态 $\\boldsymbol{H}_t$ 传递进输出层，从而计算时间步 $t$ 的输出。\n",
    "\n",
    "\n",
    "## 实验\n",
    "\n",
    "和前几节中的实验一样，我们依然使用周杰伦歌词数据集来训练模型作词。\n",
    "\n",
    "### 处理数据\n",
    "\n",
    "我们先读取并简单处理数据集。"
   ]
  },
  {
   "cell_type": "code",
   "execution_count": 1,
   "metadata": {
    "attributes": {
     "classes": [],
     "id": "",
     "n": "1"
    }
   },
   "outputs": [],
   "source": [
    "import sys\n",
    "sys.path.append('..')\n",
    "import gluonbook as gb\n",
    "from mxnet import nd\n",
    "import zipfile\n",
    "\n",
    "with zipfile.ZipFile('../data/jaychou_lyrics.txt.zip', 'r') as zin:\n",
    "    zin.extractall('../data/')\n",
    "with open('../data/jaychou_lyrics.txt', encoding='utf-8') as f:\n",
    "    corpus_chars = f.read()\n",
    "\n",
    "corpus_chars = corpus_chars.replace('\\n', ' ').replace('\\r', ' ')\n",
    "corpus_chars = corpus_chars[0:20000]\n",
    "idx_to_char = list(set(corpus_chars))\n",
    "char_to_idx = dict([(char, i) for i, char in enumerate(idx_to_char)])\n",
    "corpus_indices = [char_to_idx[char] for char in corpus_chars]\n",
    "vocab_size = len(char_to_idx)"
   ]
  },
  {
   "cell_type": "markdown",
   "metadata": {},
   "source": [
    "### 初始化模型参数\n",
    "\n",
    "以下部分对模型参数进行初始化。超参数 `num_hiddens` 定义了隐藏单元的个数。"
   ]
  },
  {
   "cell_type": "code",
   "execution_count": 2,
   "metadata": {
    "attributes": {
     "classes": [],
     "id": "",
     "n": "3"
    }
   },
   "outputs": [],
   "source": [
    "ctx = gb.try_gpu()\n",
    "input_dim = vocab_size\n",
    "num_hiddens = 256\n",
    "output_dim = vocab_size\n",
    "\n",
    "def get_params():\n",
    "    # 输入门参数 .\n",
    "    W_xi = nd.random_normal(scale=0.01, shape=(input_dim, num_hiddens),\n",
    "                            ctx=ctx)\n",
    "    W_hi = nd.random_normal(scale=0.01, shape=(num_hiddens, num_hiddens),\n",
    "                            ctx=ctx)\n",
    "    b_i = nd.zeros(num_hiddens, ctx=ctx)\n",
    "    # 遗忘门参数。\n",
    "    W_xf = nd.random_normal(scale=0.01, shape=(input_dim, num_hiddens),\n",
    "                            ctx=ctx)\n",
    "    W_hf = nd.random_normal(scale=0.01, shape=(num_hiddens, num_hiddens),\n",
    "                            ctx=ctx)\n",
    "    b_f = nd.zeros(num_hiddens, ctx=ctx)\n",
    "    # 输出门参数。\n",
    "    W_xo = nd.random_normal(scale=0.01, shape=(input_dim, num_hiddens),\n",
    "                            ctx=ctx)\n",
    "    W_ho = nd.random_normal(scale=0.01, shape=(num_hiddens, num_hiddens),\n",
    "                            ctx=ctx)\n",
    "    b_o = nd.zeros(num_hiddens, ctx=ctx)\n",
    "    # 候选细胞参数。\n",
    "    W_xc = nd.random_normal(scale=0.01, shape=(input_dim, num_hiddens),\n",
    "                            ctx=ctx)\n",
    "    W_hc = nd.random_normal(scale=0.01, shape=(num_hiddens, num_hiddens),\n",
    "                            ctx=ctx)\n",
    "    b_c = nd.zeros(num_hiddens, ctx=ctx)\n",
    "    # 输出层参数。\n",
    "    W_hy = nd.random_normal(scale=0.01, shape=(num_hiddens, output_dim),\n",
    "                            ctx=ctx)\n",
    "    b_y = nd.zeros(output_dim, ctx=ctx)\n",
    "\n",
    "    params = [W_xi, W_hi, b_i, W_xf, W_hf, b_f, W_xo, W_ho, b_o, W_xc, W_hc,\n",
    "              b_c, W_hy, b_y]\n",
    "    for param in params:\n",
    "        param.attach_grad()\n",
    "    return params"
   ]
  },
  {
   "cell_type": "markdown",
   "metadata": {},
   "source": [
    "## 定义模型\n",
    "\n",
    "下面根据长短期记忆的计算表达式定义模型。"
   ]
  },
  {
   "cell_type": "code",
   "execution_count": 3,
   "metadata": {
    "attributes": {
     "classes": [],
     "id": "",
     "n": "4"
    }
   },
   "outputs": [],
   "source": [
    "def lstm_rnn(inputs, state_h, state_c, *params):\n",
    "    [W_xi, W_hi, b_i, W_xf, W_hf, b_f, W_xo, W_ho, b_o, W_xc, W_hc, b_c,\n",
    "     W_hy, b_y] = params\n",
    "    H = state_h\n",
    "    C = state_c\n",
    "    outputs = []\n",
    "    for X in inputs:        \n",
    "        I = nd.sigmoid(nd.dot(X, W_xi) + nd.dot(H, W_hi) + b_i)\n",
    "        F = nd.sigmoid(nd.dot(X, W_xf) + nd.dot(H, W_hf) + b_f)\n",
    "        O = nd.sigmoid(nd.dot(X, W_xo) + nd.dot(H, W_ho) + b_o)\n",
    "        C_tilda = nd.tanh(nd.dot(X, W_xc) + nd.dot(H, W_hc) + b_c)\n",
    "        C = F * C + I * C_tilda\n",
    "        H = O * C.tanh()\n",
    "        Y = nd.dot(H, W_hy) + b_y\n",
    "        outputs.append(Y)\n",
    "    return (outputs, H, C)"
   ]
  },
  {
   "cell_type": "markdown",
   "metadata": {},
   "source": [
    "### 训练模型并创作歌词\n",
    "\n",
    "设置好超参数后，我们将训练模型并跟据前缀“分开”和“不分开”分别创作长度为 100 个字符的一段歌词。我们每过 30 个迭代周期便根据当前训练的模型创作一段歌词。训练模型时采用了相邻采样。"
   ]
  },
  {
   "cell_type": "code",
   "execution_count": 4,
   "metadata": {
    "attributes": {
     "classes": [],
     "id": "",
     "n": "5"
    }
   },
   "outputs": [
    {
     "name": "stdout",
     "output_type": "stream",
     "text": [
      "\n",
      "epoch 30, perplexity 185.090393\n",
      " -   分开 我有 我不要 我不要 我不要 我不要 我不要 我不要 我不要 我不要 我不要 我不要 我不要 我不要 我不要 我不要 我不要 我不要 我不要 我不要 我不要 我不要 我不要 我不要 我不要 我不要 我不\n"
     ]
    },
    {
     "name": "stdout",
     "output_type": "stream",
     "text": [
      " -   不分开 我不要 我不要 我不要 我不要 我不要 我不要 我不要 我不要 我不要 我不要 我不要 我不要 我不要 我不要 我不要 我不要 我不要 我不要 我不要 我不要 我不要 我不要 我不要 我不要 我不要 我\n"
     ]
    },
    {
     "name": "stdout",
     "output_type": "stream",
     "text": [
      "\n",
      "epoch 60, perplexity 33.529644\n",
      " -   分开  不是  是有有的战头 一直为人 快使用双截  一直哈兮 快使我有太出 一直为人 快使用双截棍 哼哼哈兮 快使我有太出 一直为人 快使用双截棍 哼哼哈兮 快使我有太出 一直为人 快使用双截棍 哼哼哈兮 \n"
     ]
    },
    {
     "name": "stdout",
     "output_type": "stream",
     "text": [
      " -   不分开 我想要这多 我不要 我不要 我想我 别不是 单情走么是我有久 我想我 别我我想想要 我不要 我不要 我想我 别不是 单情怎么太留我 别我为 我想我 你不要 我想我 不不我 我不了 我不是 不想我 别不是\n"
     ]
    },
    {
     "name": "stdout",
     "output_type": "stream",
     "text": [
      "\n",
      "epoch 90, perplexity 6.857892\n",
      " -   分开 的日出 一种四空 回远 回远中 木炭 一直筐 木炭 一直匠 木炭 一直匠 一片 一直匠 半炭 一直匠 木炭 一直匠 木炭 一直匠 一片 一直匠 半炭 一直匠 木炭 一直匠 木炭 一直匠 一片 一直匠 半\n"
     ]
    },
    {
     "name": "stdout",
     "output_type": "stream",
     "text": [
      " -   不分开 单小的外步 一种后在在 我们儿远我有你的手 我想揍你已经 我要想和和离离 我想想不见 我连一定节奏 后后后觉 又过了一个秋 后知后觉 我该好好生活 我该好好生活 不知不觉 你已经离离我 不知不觉 我给了\n"
     ]
    },
    {
     "name": "stdout",
     "output_type": "stream",
     "text": [
      "\n",
      "epoch 120, perplexity 2.653156\n",
      " -   分开 的日出 而时的碗隐人 它上看看的牛肉 我说店小二 三两银够不够 景色入秋 漫天黄沙凉过 塞北的客栈人多 牧草有没有 我马儿有些瘦 天涯尽头 满脸风霜落汹涌 填平跳缝的书 马下名 半人盯人 你在想在在象里\n"
     ]
    },
    {
     "name": "stdout",
     "output_type": "stream",
     "text": [
      " -   不分开 单单对间向我怎下 你在前前前最止你 不是我 穿不有 的灵魂 翻滚 停起忿恨 永忆兽尽的战争 让我们 半兽人 的灵魂 单纯 对远古婪在的神 用谦卑的身份 再说没有纯白的灵魂 让人类堕什不见 我有天神对对 \n"
     ]
    },
    {
     "name": "stdout",
     "output_type": "stream",
     "text": [
      "\n",
      "epoch 150, perplexity 1.584024\n",
      " -   分开 的玩神 什么 很非贪 永炭 一箩筐 木炭 一直放 木炭 剩一半 火炉烫 小铁匠存钱买期望 在流汗 巴洛克建筑的街道旁 一家烟雾缭绕的酒馆 波兰的吟唱诗人在弹唱 小铁匠在门外 进不去在苦恼 他的铜板还太少\n"
     ]
    },
    {
     "name": "stdout",
     "output_type": "stream",
     "text": [
      " -   不分开 单跟我手说你 说话在医医药 说让你们 不用用 心数怎么停留 没有为多 说我的双难份 心望是 满杰了 停吸上停留 就什么 它什么 心切了海心心的街盒在藏著一片玫瑰花瓣 她金葛爬满了雕花的门窗 夕阳斜斜映在\n"
     ]
    }
   ],
   "source": [
    "get_inputs = gb.to_onehot\n",
    "num_epochs = 150\n",
    "num_steps = 35\n",
    "batch_size = 32\n",
    "lr = 0.25\n",
    "clipping_theta = 5\n",
    "prefixes = [' 分开 ', ' 不分开 ']\n",
    "pred_period = 30\n",
    "pred_len = 100\n",
    "\n",
    "gb.train_and_predict_rnn(lstm_rnn, False, num_epochs, num_steps, num_hiddens,\n",
    "                         lr, clipping_theta, batch_size, vocab_size,\n",
    "                         pred_period, pred_len, prefixes, get_params,\n",
    "                         get_inputs, ctx, corpus_indices, idx_to_char,\n",
    "                         char_to_idx, is_lstm=True)"
   ]
  },
  {
   "cell_type": "markdown",
   "metadata": {},
   "source": [
    "## 小结\n",
    "\n",
    "* 长短期记忆的隐藏层输出包括隐藏状态和记忆细胞。只有隐藏状态会传递进输出层。\n",
    "* 长短期记忆的输入门、遗忘门和输出门可以控制信息的流动。\n",
    "* 长短期记忆的可以应对循环神经网络中的梯度衰减问题，并更好地捕捉时序数据中间隔较大的依赖关系。\n",
    "\n",
    "\n",
    "## 练习\n",
    "\n",
    "* 调调超参数，观察并分析对运行时间、困惑度以及创作歌词的结果造成的影响。\n",
    "* 在相同条件下，比较长短期记忆、门控循环单元和不带门控的循环神经网络的运行时间。\n",
    "* 既然候选记忆细胞已通过使用 tanh 函数确保值域在 -1 到 1 之间，为什么隐藏状态还需再次使用 tanh 函数来确保输出值域在 -1 到 1 之间？\n",
    "\n",
    "\n",
    "## 扫码直达 [ 讨论区 ](https://discuss.gluon.ai/t/topic/4049)\n",
    "\n",
    "![](../img/qr_lstm.svg)\n",
    "\n",
    "## 参考文献\n",
    "\n",
    "[1] Hochreiter, S., & Schmidhuber, J. (1997). Long short-term memory. Neural computation, 9(8), 1735-1780."
   ]
  }
 ],
 "metadata": {
  "language_info": {
   "name": "python"
  }
 },
 "nbformat": 4,
 "nbformat_minor": 2
}