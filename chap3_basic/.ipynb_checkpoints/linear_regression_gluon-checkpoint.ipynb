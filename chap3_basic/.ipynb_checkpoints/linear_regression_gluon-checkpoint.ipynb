{
 "cells": [
  {
   "cell_type": "markdown",
   "metadata": {},
   "source": [
    "## 线性回归的Gluon实现\n",
    "### 1.生成数据集"
   ]
  },
  {
   "cell_type": "code",
   "execution_count": 2,
   "metadata": {
    "collapsed": true
   },
   "outputs": [],
   "source": [
    "from mxnet import autograd,nd\n",
    "\n",
    "num_inputs=2\n",
    "num_examples=1000\n",
    "true_w=[2,-3.4]\n",
    "true_b=4.2\n",
    "features=nd.random.normal(scale=1,shape=(num_examples,num_inputs))\n",
    "labels=true_w[0]*features[:,0]+true_w[1]*features[:,1]+true_b\n",
    "labels+=nd.random.normal(scale=0.01,shape=labels.shape)"
   ]
  },
  {
   "cell_type": "markdown",
   "metadata": {},
   "source": [
    "### 2.读取数据"
   ]
  },
  {
   "cell_type": "code",
   "execution_count": 3,
   "metadata": {
    "collapsed": true
   },
   "outputs": [],
   "source": [
    "from mxnet.gluon import data as gdata\n",
    "\n",
    "batch_size=10\n",
    "# 将训练数据的特征和标签组合\n",
    "dataset=gdata.ArrayDataset(features,labels)\n",
    "# 随机读取小批量\n",
    "data_iter=gdata.DataLoader(dataset,batch_size,shuffle=True) #shuffle是把数组中的元素按随机顺序重新排列"
   ]
  },
  {
   "cell_type": "code",
   "execution_count": 4,
   "metadata": {},
   "outputs": [
    {
     "name": "stdout",
     "output_type": "stream",
     "text": [
      "\n",
      "[[ 0.69374377 -0.73523283]\n",
      " [-0.00286585  0.87209868]\n",
      " [-1.56856549  1.04608738]\n",
      " [ 0.5331459  -0.72925323]\n",
      " [-0.93251252  2.05497503]\n",
      " [-0.51157194  0.39294311]\n",
      " [-0.90226823 -0.785276  ]\n",
      " [ 1.5116657   1.84036314]\n",
      " [-2.33943224  1.89679122]\n",
      " [-1.16881478  1.55807114]]\n",
      "<NDArray 10x2 @cpu(0)> \n",
      "[ 8.09055328  1.22845292 -2.49339509  7.74128771 -4.65387917  1.83855939\n",
      "  5.07593489  0.9611423  -6.93585825 -3.43311238]\n",
      "<NDArray 10 @cpu(0)>\n"
     ]
    }
   ],
   "source": [
    "for X,y in data_iter:\n",
    "    print(X,y)\n",
    "    break"
   ]
  },
  {
   "cell_type": "markdown",
   "metadata": {},
   "source": [
    "### 3.定义模型\n",
    "    先定义一个模型变量net，它是一个 Sequential 实例。\n",
    "    在 Gluon 中，Sequential 实例可以看作是一个串联各个层的容器。\n",
    "    在构造模型时，我们在该容器中依次添加层。当给定输入数据时，容器中的每一层将依次计算并将输出作为下一层的输入。\n",
    "    \n",
    "    在 Gluon 中我们无需指定每一层输入的形状,模型将自动推断出每一层的输入个数"
   ]
  },
  {
   "cell_type": "code",
   "execution_count": 5,
   "metadata": {
    "collapsed": true
   },
   "outputs": [],
   "source": [
    "from mxnet.gluon import nn\n",
    "\n",
    "net=nn.Sequential()"
   ]
  },
  {
   "cell_type": "code",
   "execution_count": 6,
   "metadata": {
    "collapsed": true
   },
   "outputs": [],
   "source": [
    "# 在 Gluon 中，全连接层是一个Dense实例。我们定义该层输出个数为 1。\n",
    "net.add(nn.Dense(1))"
   ]
  },
  {
   "cell_type": "markdown",
   "metadata": {},
   "source": [
    "### 4.初始化模型参数\n",
    "    initializer模块提供了模型参数初始化的各种方法。\n",
    "    init是initializer的缩写形式。\n",
    "    通过init.Normal(sigma=0.01)指定权重参数每个元素将在初始化时随机采样于均值为 0 ，标准差为 0.01 的正态分布。\n",
    "    偏差参数默认会初始化为零。\n",
    "\n",
    "from mxnet import init\n",
    "\n",
    "net.initialize(init.Normal(sigma=0.01))"
   ]
  },
  {
   "cell_type": "markdown",
   "metadata": {},
   "source": [
    "### 5.定义损失函数\n",
    "    loss模块定义了各种损失函数\n",
    "    直接使用提供的平方损失函数作为模型的损失函数"
   ]
  },
  {
   "cell_type": "code",
   "execution_count": null,
   "metadata": {
    "collapsed": true
   },
   "outputs": [],
   "source": [
    "from mxnet.gluon import loss as gloss\n",
    "\n",
    "loss=gloss.L2Loss() # 平方损失又称L2范数损失"
   ]
  },
  {
   "cell_type": "markdown",
   "metadata": {},
   "source": [
    "mmmmmmµµµyyyyyyyyyyyyyYYYY"
   ]
  }
 ],
 "metadata": {
  "kernelspec": {
   "display_name": "Python 3",
   "language": "python",
   "name": "python3"
  },
  "language_info": {
   "codemirror_mode": {
    "name": "ipython",
    "version": 3
   },
   "file_extension": ".py",
   "mimetype": "text/x-python",
   "name": "python",
   "nbconvert_exporter": "python",
   "pygments_lexer": "ipython3",
   "version": "3.6.2"
  }
 },
 "nbformat": 4,
 "nbformat_minor": 2
}
